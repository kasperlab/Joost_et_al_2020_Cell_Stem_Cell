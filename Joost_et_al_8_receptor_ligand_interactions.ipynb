{
 "cells": [
  {
   "cell_type": "code",
   "execution_count": 4,
   "metadata": {},
   "outputs": [],
   "source": [
    "%matplotlib inline"
   ]
  },
  {
   "cell_type": "markdown",
   "metadata": {},
   "source": [
    "# Import custom scripts"
   ]
  },
  {
   "cell_type": "code",
   "execution_count": 5,
   "metadata": {},
   "outputs": [],
   "source": [
    "path_scripts = '/Users/simjoo/Projects/10X_Skin/scripts/'"
   ]
  },
  {
   "cell_type": "code",
   "execution_count": 6,
   "metadata": {},
   "outputs": [],
   "source": [
    "import sys\n",
    "sys.path.append(path_scripts)"
   ]
  },
  {
   "cell_type": "code",
   "execution_count": 7,
   "metadata": {
    "scrolled": false
   },
   "outputs": [
    {
     "name": "stderr",
     "output_type": "stream",
     "text": [
      "/Users/simjoo/anaconda/lib/python3.6/site-packages/h5py/__init__.py:36: FutureWarning: Conversion of the second argument of issubdtype from `float` to `np.floating` is deprecated. In future, it will be treated as `np.float64 == np.dtype(float).type`.\n",
      "  from ._conv import register_converters as _register_converters\n"
     ]
    }
   ],
   "source": [
    "from Skin10X_misc_scripts_v1_4 import *\n",
    "from Skin10X_plot_v1_0 import *\n",
    "from Skin10X_affinity_propagation_v1_4 import *\n",
    "from Skin10X_mann_whitney_u_v1_3 import *"
   ]
  },
  {
   "cell_type": "code",
   "execution_count": 8,
   "metadata": {},
   "outputs": [],
   "source": [
    "import pickle\n",
    "import pygraphviz as pgv"
   ]
  },
  {
   "cell_type": "markdown",
   "metadata": {},
   "source": [
    "# Initialize engines"
   ]
  },
  {
   "cell_type": "code",
   "execution_count": 9,
   "metadata": {},
   "outputs": [],
   "source": [
    "from ipyparallel import Client"
   ]
  },
  {
   "cell_type": "code",
   "execution_count": 10,
   "metadata": {},
   "outputs": [],
   "source": [
    "c = Client(profile='default')"
   ]
  },
  {
   "cell_type": "code",
   "execution_count": 11,
   "metadata": {},
   "outputs": [],
   "source": [
    "dview = c[:]"
   ]
  },
  {
   "cell_type": "code",
   "execution_count": 12,
   "metadata": {},
   "outputs": [
    {
     "data": {
      "text/plain": [
       "<AsyncResult: execute>"
      ]
     },
     "execution_count": 12,
     "metadata": {},
     "output_type": "execute_result"
    }
   ],
   "source": [
    "dview.execute('import sys')\n",
    "dview.execute('sys.path.append(\"/Users/simjoo/Projects/10X_Skin/scripts/\")')\n",
    "dview.execute('from Skin10X_affinity_propagation_v1_4 import *')\n",
    "dview.execute('Skin10X_mann_whitney_u_v1_4 import *')"
   ]
  },
  {
   "cell_type": "markdown",
   "metadata": {},
   "source": [
    "# Import Data"
   ]
  },
  {
   "cell_type": "code",
   "execution_count": 13,
   "metadata": {},
   "outputs": [],
   "source": [
    "exp_id = '201806201840'\n",
    "path_input = '/Users/simjoo/Projects/10X_Skin/data_input/v1.5/'\n",
    "path_output = '/Users/simjoo/Projects/10X_Skin/data_output/v1.5'\n",
    "path_figures = '/Users/simjoo/Projects/10X_Skin/figures/v1.5'"
   ]
  },
  {
   "cell_type": "code",
   "execution_count": 14,
   "metadata": {},
   "outputs": [],
   "source": [
    "seq = loadData_v1(path_output, exp_id, 'seq', 'DataFrame')"
   ]
  },
  {
   "cell_type": "code",
   "execution_count": 15,
   "metadata": {},
   "outputs": [],
   "source": [
    "seqN = loadData_v1(path_output, exp_id, 'seqN', 'DataFrame')"
   ]
  },
  {
   "cell_type": "code",
   "execution_count": 16,
   "metadata": {},
   "outputs": [],
   "source": [
    "seqN_log2 = np.log2(seqN + 1)"
   ]
  },
  {
   "cell_type": "code",
   "execution_count": 17,
   "metadata": {},
   "outputs": [],
   "source": [
    "cl_c_1st = loadData_v1(path_output, exp_id, 'cl_c_1st', 'Series')"
   ]
  },
  {
   "cell_type": "code",
   "execution_count": 18,
   "metadata": {},
   "outputs": [],
   "source": [
    "cl_c_1st_sel = cl_c_1st[cl_c_1st!='JUNK']"
   ]
  },
  {
   "cell_type": "code",
   "execution_count": 19,
   "metadata": {},
   "outputs": [],
   "source": [
    "cl_c_2nd = loadData_v1(path_output, exp_id, 'cl_c_2nd', 'Series')"
   ]
  },
  {
   "cell_type": "code",
   "execution_count": 20,
   "metadata": {},
   "outputs": [],
   "source": [
    "cl_c_2nd_sel = cl_c_2nd[cl_c_2nd!='JUNK']"
   ]
  },
  {
   "cell_type": "code",
   "execution_count": 21,
   "metadata": {},
   "outputs": [],
   "source": [
    "MWU_av_2nd_lig = loadData_v1(path_output, exp_id, 'MWU_av_2nd_lig','DataFrame')\n",
    "MWU_av_2nd_rec = loadData_v1(path_output, exp_id, 'MWU_av_2nd_rec','DataFrame')"
   ]
  },
  {
   "cell_type": "code",
   "execution_count": 22,
   "metadata": {},
   "outputs": [],
   "source": [
    "PairsLigRec_mm = loadData_v1(path_input, exp_id, 'PairsLigRec_mm', 'DataFrame')\n",
    "PairsLigRec_mm_S = pd.Series(PairsLigRec_mm['Receptor.ApprovedSymbol_mm'].values, index = PairsLigRec_mm['Ligand.ApprovedSymbol_mm'].values)"
   ]
  },
  {
   "cell_type": "code",
   "execution_count": 23,
   "metadata": {},
   "outputs": [],
   "source": [
    "cells_stage = pd.Series([c[-2:] for c in seq.columns], index = seq.columns)"
   ]
  },
  {
   "cell_type": "code",
   "execution_count": 24,
   "metadata": {},
   "outputs": [],
   "source": [
    "cc_score_v2 = loadData_v1(path_output, exp_id, 'cc_score_v2','Series')"
   ]
  },
  {
   "cell_type": "code",
   "execution_count": 25,
   "metadata": {},
   "outputs": [],
   "source": [
    "TF_mm9 = open('%s/TF_mm9.txt' % path_input, 'r').read().split()"
   ]
  },
  {
   "cell_type": "code",
   "execution_count": 26,
   "metadata": {},
   "outputs": [],
   "source": [
    "bc = loadData_v1(path_input, exp_id, 'assigned_barcodes', 'Series')\n",
    "cells_replicate = pd.Series(index = seq.columns)\n",
    "for ix in cells_replicate.index:\n",
    "    if type(bc['%s-1' % ix[:-3]]) != str:\n",
    "        cells_replicate[ix] = '%s unassigned' % ix.split('-')[-1]\n",
    "    elif bc['%s-1' % ix[:-3]] == 'unassigned':\n",
    "        cells_replicate[ix] = '%s unassigned' % ix.split('-')[-1]\n",
    "    else:\n",
    "        cells_replicate[ix] = bc['%s-1' % ix[:-3]]"
   ]
  },
  {
   "cell_type": "code",
   "execution_count": 27,
   "metadata": {},
   "outputs": [],
   "source": [
    "path = '%s/%s_cmap_1st.pkl' % (path_output, exp_id)\n",
    "f = open(path, 'rb')\n",
    "cmap_1st = pickle.load(f)"
   ]
  },
  {
   "cell_type": "code",
   "execution_count": 28,
   "metadata": {},
   "outputs": [],
   "source": [
    "path = '%s/%s_cmap_2nd.pkl' % (path_output, exp_id)\n",
    "f = open(path, 'rb')\n",
    "cmap_2nd = pickle.load(f)"
   ]
  },
  {
   "cell_type": "code",
   "execution_count": 29,
   "metadata": {},
   "outputs": [],
   "source": [
    "cmap_time = {'5w':'#fb9a99','9w':'#b2df8a'}"
   ]
  },
  {
   "cell_type": "code",
   "execution_count": 30,
   "metadata": {},
   "outputs": [],
   "source": [
    "markers_time = {'5w':'H','9w':'o'}"
   ]
  },
  {
   "cell_type": "code",
   "execution_count": 31,
   "metadata": {},
   "outputs": [],
   "source": [
    "def quantify_LigRec(gene_dict_Lig, gene_dict_Rec, pairs):\n",
    "    \n",
    "    output_df = pd.DataFrame(index = gene_dict_Lig.keys(), columns = gene_dict_Rec.keys())\n",
    "    output_dict = {}\n",
    "    \n",
    "    output_quant_df = pd.DataFrame(index = gene_dict_Lig.keys(), columns = gene_dict_Rec.keys())\n",
    "    output_quant_dict = {}\n",
    "    \n",
    "    for kLig in gene_dict_Lig.keys():\n",
    "        lig_exp = gene_dict_Lig[kLig]\n",
    "        \n",
    "        for kRec in gene_dict_Rec.keys():\n",
    "            rec_exp = gene_dict_Rec[kRec]\n",
    "                \n",
    "            rl = []\n",
    "            \n",
    "            for l in lig_exp:\n",
    "                for r in rec_exp:\n",
    "                    if np.any(pairs.loc[l] == r):\n",
    "                        rl.append((l,r))\n",
    "            \n",
    "            output_df.loc[kLig,kRec] = rl\n",
    "            output_dict['%s - %s' % (kLig,kRec)] = rl\n",
    "            \n",
    "            output_quant_df.loc[kLig,kRec] = len(rl)\n",
    "            output_quant_dict['%s - %s' % (kLig,kRec)] = len(rl)\n",
    "            \n",
    "    return output_df, output_dict, output_quant_df, output_quant_dict"
   ]
  },
  {
   "cell_type": "code",
   "execution_count": 32,
   "metadata": {},
   "outputs": [],
   "source": [
    "def sim_lig_rec(dict_rec, dict_lig, pairs, repeats = 10000):\n",
    "    \n",
    "    output = {}\n",
    "    \n",
    "    for kLig in dict_lig.keys():\n",
    "        nLig = len(dict_lig[kLig])\n",
    "        \n",
    "        for kRec in dict_rec.keys():\n",
    "            nRec = len(dict_lig[kRec])\n",
    "            \n",
    "            output_tmp = []\n",
    "\n",
    "            for r in range(repeats):\n",
    "                gLig = np.random.choice(list(set(pairs.index)), size = nLig, replace = False)\n",
    "                gRec = np.random.choice(list(set(pairs.values)), size = nLig, replace = False)\n",
    "\n",
    "                output_tmp.append(len([g for g in gRec if g in list(pairs.ix[gLig].values)]))\n",
    "\n",
    "            output['%s - %s' % (kLig,kRec)] = output_tmp\n",
    "            \n",
    "    return output"
   ]
  },
  {
   "cell_type": "code",
   "execution_count": 33,
   "metadata": {},
   "outputs": [],
   "source": [
    "def sim_lig_rec_sel(dict_rec, dict_lig, pairs_sel, pairs, repeats = 10000):\n",
    "    \n",
    "    output = {}\n",
    "    \n",
    "    for p in pairs_sel:\n",
    "        kLig = p[0]\n",
    "        nLig = len(dict_lig[kLig])\n",
    "        \n",
    "        kRec = p[1]\n",
    "        nRec = len(dict_lig[kRec])\n",
    "            \n",
    "        output_tmp = []\n",
    "\n",
    "        for r in range(repeats):\n",
    "            gLig = np.random.choice(list(set(pairs.index)), size = nLig, replace = False)\n",
    "            gRec = np.random.choice(list(set(pairs.values)), size = nLig, replace = False)\n",
    "\n",
    "            output_tmp.append(len([g for g in gRec if g in list(pairs.ix[gLig].values)]))\n",
    "\n",
    "        output['%s - %s' % (kLig,kRec)] = output_tmp\n",
    "            \n",
    "    return output"
   ]
  },
  {
   "cell_type": "code",
   "execution_count": 34,
   "metadata": {},
   "outputs": [],
   "source": [
    "def sim_lig_reg_get_p(obs, sim):\n",
    "    \n",
    "    output_df = pd.DataFrame()\n",
    "    \n",
    "    for k in sim.keys():\n",
    "        output_df.loc[k.split(' - ')[0], k.split(' - ')[1]] = np.sum(np.array(sim[k])>=obs[k]) / len(sim[k])\n",
    "        \n",
    "    return output_df"
   ]
  },
  {
   "cell_type": "code",
   "execution_count": 35,
   "metadata": {},
   "outputs": [],
   "source": [
    "def create_MultiGraph_pgv(mat, prog = 'neato'):\n",
    "    \n",
    "    G=pgv.AGraph(strict = False)\n",
    "    \n",
    "    G.add_nodes_from(mat.index)\n",
    "    \n",
    "    for n1, n2 in itertools.product(mat.index):\n",
    "        G.add_edge([])\n",
    "    \n",
    "    return G"
   ]
  },
  {
   "cell_type": "markdown",
   "metadata": {
    "collapsed": true
   },
   "source": [
    "# 1st level clusters"
   ]
  },
  {
   "cell_type": "code",
   "execution_count": 36,
   "metadata": {},
   "outputs": [],
   "source": [
    "MWU_lig = MWU_av_2nd_lig\n",
    "MWU_rec = MWU_av_2nd_rec"
   ]
  },
  {
   "cell_type": "markdown",
   "metadata": {},
   "source": [
    "## Test for enrichment to define groups for time points"
   ]
  },
  {
   "cell_type": "code",
   "execution_count": 40,
   "metadata": {},
   "outputs": [],
   "source": [
    "def stage_get_pval_binomial_distr(n, p, N):\n",
    "    \n",
    "    \"\"\"\n",
    "    n: number of trials == number of cells in a population\n",
    "    p: success probability == percentage of anagen cells in whole dataset\n",
    "    N: number of successes == number of anagen cells in population\n",
    "    -----\n",
    "    returns\n",
    "    pval telogen enrichment: probability to observe N or less anagen cells at random\n",
    "    pval anagen enrichment: probability to observe n-N or less telogen cells at random\n",
    "    \"\"\"\n",
    "    \n",
    "    return scipy.stats.binom.cdf(N, n, p), scipy.stats.binom.cdf(n-N, n, 1-p)"
   ]
  },
  {
   "cell_type": "code",
   "execution_count": 41,
   "metadata": {},
   "outputs": [],
   "source": [
    "perc_anagen_all = 0.29973024526812425 #see Notebook 1"
   ]
  },
  {
   "cell_type": "code",
   "execution_count": 42,
   "metadata": {},
   "outputs": [],
   "source": [
    "stage_quant_1st = pd.DataFrame(index = return_unique(cl_c_1st_sel), columns = ['count anagen',\n",
    "                                                                           '% anagen',\n",
    "                                                                           'count telogen',\n",
    "                                                                           '% telogen',\n",
    "                                                                           'proba - 5w',\n",
    "                                                                           'proba - 9w'])\n",
    "\n",
    "for gr in return_unique(cl_c_1st_sel):\n",
    "    c_sel = cl_c_1st_sel[cl_c_1st_sel==gr].index\n",
    "    count_tmp = Counter(cells_stage[c_sel])\n",
    "    \n",
    "    stage_quant_1st.loc[gr,'count anagen'] = count_tmp['5w']\n",
    "    stage_quant_1st.loc[gr,'% anagen'] = stage_quant_1st.loc[gr,'count anagen'] / len(c_sel)\n",
    "    stage_quant_1st.loc[gr,'count telogen'] = count_tmp['9w']\n",
    "    stage_quant_1st.loc[gr,'% telogen'] = stage_quant_1st.loc[gr,'count telogen'] / len(c_sel)\n",
    "    stage_quant_1st.loc[gr,['proba - 9w','proba - 5w']] = stage_get_pval_binomial_distr(len(c_sel), perc_anagen_all, stage_quant_1st.loc[gr,'count anagen'])"
   ]
  },
  {
   "cell_type": "code",
   "execution_count": 43,
   "metadata": {},
   "outputs": [
    {
     "data": {
      "text/html": [
       "<div>\n",
       "<style scoped>\n",
       "    .dataframe tbody tr th:only-of-type {\n",
       "        vertical-align: middle;\n",
       "    }\n",
       "\n",
       "    .dataframe tbody tr th {\n",
       "        vertical-align: top;\n",
       "    }\n",
       "\n",
       "    .dataframe thead th {\n",
       "        text-align: right;\n",
       "    }\n",
       "</style>\n",
       "<table border=\"1\" class=\"dataframe\">\n",
       "  <thead>\n",
       "    <tr style=\"text-align: right;\">\n",
       "      <th></th>\n",
       "      <th>count anagen</th>\n",
       "      <th>% anagen</th>\n",
       "      <th>count telogen</th>\n",
       "      <th>% telogen</th>\n",
       "      <th>proba - 5w</th>\n",
       "      <th>proba - 9w</th>\n",
       "    </tr>\n",
       "  </thead>\n",
       "  <tbody>\n",
       "    <tr>\n",
       "      <th>EPI</th>\n",
       "      <td>851</td>\n",
       "      <td>0.302739</td>\n",
       "      <td>1960</td>\n",
       "      <td>0.697261</td>\n",
       "      <td>0.37067</td>\n",
       "      <td>0.644744</td>\n",
       "    </tr>\n",
       "    <tr>\n",
       "      <th>ANA</th>\n",
       "      <td>1959</td>\n",
       "      <td>0.992401</td>\n",
       "      <td>15</td>\n",
       "      <td>0.00759878</td>\n",
       "      <td>0</td>\n",
       "      <td>1</td>\n",
       "    </tr>\n",
       "    <tr>\n",
       "      <th>FIB</th>\n",
       "      <td>90</td>\n",
       "      <td>0.233766</td>\n",
       "      <td>295</td>\n",
       "      <td>0.766234</td>\n",
       "      <td>0.998378</td>\n",
       "      <td>0.0023517</td>\n",
       "    </tr>\n",
       "    <tr>\n",
       "      <th>IMM</th>\n",
       "      <td>63</td>\n",
       "      <td>0.3</td>\n",
       "      <td>147</td>\n",
       "      <td>0.7</td>\n",
       "      <td>0.522612</td>\n",
       "      <td>0.537371</td>\n",
       "    </tr>\n",
       "    <tr>\n",
       "      <th>VASC</th>\n",
       "      <td>31</td>\n",
       "      <td>0.187879</td>\n",
       "      <td>134</td>\n",
       "      <td>0.812121</td>\n",
       "      <td>0.99961</td>\n",
       "      <td>0.000756808</td>\n",
       "    </tr>\n",
       "    <tr>\n",
       "      <th>MEL</th>\n",
       "      <td>127</td>\n",
       "      <td>0.881944</td>\n",
       "      <td>17</td>\n",
       "      <td>0.118056</td>\n",
       "      <td>4.50718e-48</td>\n",
       "      <td>1</td>\n",
       "    </tr>\n",
       "    <tr>\n",
       "      <th>MISC</th>\n",
       "      <td>28</td>\n",
       "      <td>0.358974</td>\n",
       "      <td>50</td>\n",
       "      <td>0.641026</td>\n",
       "      <td>0.154251</td>\n",
       "      <td>0.895697</td>\n",
       "    </tr>\n",
       "  </tbody>\n",
       "</table>\n",
       "</div>"
      ],
      "text/plain": [
       "     count anagen  % anagen count telogen   % telogen   proba - 5w  \\\n",
       "EPI           851  0.302739          1960    0.697261      0.37067   \n",
       "ANA          1959  0.992401            15  0.00759878            0   \n",
       "FIB            90  0.233766           295    0.766234     0.998378   \n",
       "IMM            63       0.3           147         0.7     0.522612   \n",
       "VASC           31  0.187879           134    0.812121      0.99961   \n",
       "MEL           127  0.881944            17    0.118056  4.50718e-48   \n",
       "MISC           28  0.358974            50    0.641026     0.154251   \n",
       "\n",
       "       proba - 9w  \n",
       "EPI      0.644744  \n",
       "ANA             1  \n",
       "FIB     0.0023517  \n",
       "IMM      0.537371  \n",
       "VASC  0.000756808  \n",
       "MEL             1  \n",
       "MISC     0.895697  "
      ]
     },
     "execution_count": 43,
     "metadata": {},
     "output_type": "execute_result"
    }
   ],
   "source": [
    "stage_quant_1st"
   ]
  },
  {
   "cell_type": "code",
   "execution_count": 44,
   "metadata": {},
   "outputs": [],
   "source": [
    "thr = 0.001 / len(set(cl_c_1st_sel))"
   ]
  },
  {
   "cell_type": "code",
   "execution_count": 45,
   "metadata": {},
   "outputs": [
    {
     "data": {
      "text/plain": [
       "0.00014285714285714287"
      ]
     },
     "execution_count": 45,
     "metadata": {},
     "output_type": "execute_result"
    }
   ],
   "source": [
    "thr"
   ]
  },
  {
   "cell_type": "code",
   "execution_count": 46,
   "metadata": {},
   "outputs": [],
   "source": [
    "gr_1st_5w_un = stage_quant_1st['proba - 5w'][stage_quant_1st['proba - 5w']<thr].index"
   ]
  },
  {
   "cell_type": "code",
   "execution_count": 47,
   "metadata": {},
   "outputs": [],
   "source": [
    "gr_1st_9w_un = stage_quant_1st['proba - 9w'][stage_quant_1st['proba - 9w']<thr].index"
   ]
  },
  {
   "cell_type": "code",
   "execution_count": 48,
   "metadata": {},
   "outputs": [],
   "source": [
    "gr_1st_5w = [gr for gr in set(cl_c_1st_sel) if gr not in gr_1st_9w_un]"
   ]
  },
  {
   "cell_type": "code",
   "execution_count": 49,
   "metadata": {},
   "outputs": [
    {
     "data": {
      "text/plain": [
       "['ANA', 'MISC', 'IMM', 'MEL', 'FIB', 'VASC', 'EPI']"
      ]
     },
     "execution_count": 49,
     "metadata": {},
     "output_type": "execute_result"
    }
   ],
   "source": [
    "gr_1st_5w"
   ]
  },
  {
   "cell_type": "code",
   "execution_count": 50,
   "metadata": {},
   "outputs": [],
   "source": [
    "gr_1st_9w = [gr for gr in set(cl_c_1st_sel) if gr not in gr_1st_5w_un]"
   ]
  },
  {
   "cell_type": "code",
   "execution_count": 51,
   "metadata": {},
   "outputs": [
    {
     "data": {
      "text/plain": [
       "['MISC', 'IMM', 'FIB', 'VASC', 'EPI']"
      ]
     },
     "execution_count": 51,
     "metadata": {},
     "output_type": "execute_result"
    }
   ],
   "source": [
    "gr_1st_9w"
   ]
  },
  {
   "cell_type": "markdown",
   "metadata": {},
   "source": [
    "## Get receptor and ligands (combined from 2nd level subclusters)"
   ]
  },
  {
   "cell_type": "code",
   "execution_count": 46,
   "metadata": {},
   "outputs": [],
   "source": [
    "thr = -np.log10(0.001)"
   ]
  },
  {
   "cell_type": "code",
   "execution_count": 47,
   "metadata": {},
   "outputs": [],
   "source": [
    "lig_1st = {'EPI':[],'ANA':[],'FIB':[],'IMM':[],'VASC':[],'MEL':[],'MISC':[]}\n",
    "\n",
    "for gr in return_unique(cl_c_2nd_sel):\n",
    "    lig_tmp = list(MWU_lig[gr][MWU_lig[gr]>thr].index)\n",
    "    lig_1st[gr.split(' - ')[0]] += lig_tmp\n",
    "        \n",
    "for k in lig_1st.keys():\n",
    "    lig_1st[k] = list(set(lig_1st[k]))"
   ]
  },
  {
   "cell_type": "code",
   "execution_count": 48,
   "metadata": {},
   "outputs": [
    {
     "name": "stdout",
     "output_type": "stream",
     "text": [
      "EPI 109\n",
      "ANA 132\n",
      "FIB 162\n",
      "IMM 79\n",
      "VASC 93\n",
      "MEL 66\n",
      "MISC 14\n"
     ]
    }
   ],
   "source": [
    "for k in lig_1st.keys():\n",
    "    print(k, len(lig_1st[k]))"
   ]
  },
  {
   "cell_type": "code",
   "execution_count": 49,
   "metadata": {},
   "outputs": [],
   "source": [
    "lig_1st_5w = {k:lig_1st[k] for k in gr_1st_5w}\n",
    "lig_1st_9w = {k:lig_1st[k] for k in gr_1st_9w}"
   ]
  },
  {
   "cell_type": "code",
   "execution_count": 50,
   "metadata": {},
   "outputs": [],
   "source": [
    "rec_1st = {'EPI':[],'ANA':[],'FIB':[],'IMM':[],'VASC':[],'MEL':[],'MISC':[]}\n",
    "\n",
    "for gr in return_unique(cl_c_2nd_sel):\n",
    "    rec_tmp = list(MWU_rec[gr][MWU_rec[gr]>thr].index)\n",
    "    rec_1st[gr.split(' - ')[0]] += rec_tmp\n",
    "        \n",
    "for k in rec_1st.keys():\n",
    "    rec_1st[k] = list(set(rec_1st[k]))"
   ]
  },
  {
   "cell_type": "code",
   "execution_count": 51,
   "metadata": {},
   "outputs": [
    {
     "name": "stdout",
     "output_type": "stream",
     "text": [
      "EPI 106\n",
      "ANA 137\n",
      "FIB 97\n",
      "IMM 81\n",
      "VASC 94\n",
      "MEL 70\n",
      "MISC 12\n"
     ]
    }
   ],
   "source": [
    "for k in rec_1st.keys():\n",
    "    print(k, len(rec_1st[k]))"
   ]
  },
  {
   "cell_type": "code",
   "execution_count": 52,
   "metadata": {},
   "outputs": [],
   "source": [
    "rec_1st_5w = {k:rec_1st[k] for k in gr_1st_5w}\n",
    "rec_1st_9w = {k:rec_1st[k] for k in gr_1st_9w}"
   ]
  },
  {
   "cell_type": "code",
   "execution_count": 53,
   "metadata": {},
   "outputs": [
    {
     "name": "stdout",
     "output_type": "stream",
     "text": [
      "EPI 8.272643200907131\n",
      "ANA 9.25339718068125\n",
      "FIB 9.079772052293041\n",
      "IMM 7.136496464611085\n",
      "VASC 7.715176518808164\n",
      "MEL 6.579524642479541\n",
      "MISC 2.876813695875796\n"
     ]
    }
   ],
   "source": [
    "for k in rec_1st.keys():\n",
    "    print(k, np.sqrt((len(rec_1st[k]) + len(lig_1st[k])) / np.pi))"
   ]
  },
  {
   "cell_type": "code",
   "execution_count": 54,
   "metadata": {},
   "outputs": [
    {
     "name": "stdout",
     "output_type": "stream",
     "text": [
      "EPI 215\n",
      "ANA 269\n",
      "FIB 259\n",
      "IMM 160\n",
      "VASC 187\n",
      "MEL 136\n",
      "MISC 26\n"
     ]
    }
   ],
   "source": [
    "for k in rec_1st.keys():\n",
    "    print(k, len(rec_1st[k]) + len(lig_1st[k]))"
   ]
  },
  {
   "cell_type": "markdown",
   "metadata": {},
   "source": [
    "## Get receptor-ligand pairs"
   ]
  },
  {
   "cell_type": "code",
   "execution_count": 55,
   "metadata": {},
   "outputs": [],
   "source": [
    "ligrec_1st_5w_df, ligrec_1st_5w_dict, quant_ligrec_1st_5w_df, quant_ligrec_1st_5w_dict = quantify_LigRec(lig_1st_5w, \n",
    "                                                                                                         rec_1st_5w,\n",
    "                                                                                                         PairsLigRec_mm_S)"
   ]
  },
  {
   "cell_type": "code",
   "execution_count": 56,
   "metadata": {},
   "outputs": [
    {
     "data": {
      "text/html": [
       "<div>\n",
       "<style scoped>\n",
       "    .dataframe tbody tr th:only-of-type {\n",
       "        vertical-align: middle;\n",
       "    }\n",
       "\n",
       "    .dataframe tbody tr th {\n",
       "        vertical-align: top;\n",
       "    }\n",
       "\n",
       "    .dataframe thead th {\n",
       "        text-align: right;\n",
       "    }\n",
       "</style>\n",
       "<table border=\"1\" class=\"dataframe\">\n",
       "  <thead>\n",
       "    <tr style=\"text-align: right;\">\n",
       "      <th></th>\n",
       "      <th>IMM</th>\n",
       "      <th>MISC</th>\n",
       "      <th>MEL</th>\n",
       "      <th>VASC</th>\n",
       "      <th>ANA</th>\n",
       "      <th>EPI</th>\n",
       "      <th>FIB</th>\n",
       "    </tr>\n",
       "  </thead>\n",
       "  <tbody>\n",
       "    <tr>\n",
       "      <th>IMM</th>\n",
       "      <td>79</td>\n",
       "      <td>6</td>\n",
       "      <td>55</td>\n",
       "      <td>66</td>\n",
       "      <td>82</td>\n",
       "      <td>52</td>\n",
       "      <td>63</td>\n",
       "    </tr>\n",
       "    <tr>\n",
       "      <th>MISC</th>\n",
       "      <td>8</td>\n",
       "      <td>4</td>\n",
       "      <td>15</td>\n",
       "      <td>17</td>\n",
       "      <td>22</td>\n",
       "      <td>16</td>\n",
       "      <td>23</td>\n",
       "    </tr>\n",
       "    <tr>\n",
       "      <th>MEL</th>\n",
       "      <td>19</td>\n",
       "      <td>10</td>\n",
       "      <td>59</td>\n",
       "      <td>70</td>\n",
       "      <td>109</td>\n",
       "      <td>56</td>\n",
       "      <td>68</td>\n",
       "    </tr>\n",
       "    <tr>\n",
       "      <th>VASC</th>\n",
       "      <td>50</td>\n",
       "      <td>9</td>\n",
       "      <td>76</td>\n",
       "      <td>105</td>\n",
       "      <td>133</td>\n",
       "      <td>77</td>\n",
       "      <td>120</td>\n",
       "    </tr>\n",
       "    <tr>\n",
       "      <th>ANA</th>\n",
       "      <td>48</td>\n",
       "      <td>16</td>\n",
       "      <td>83</td>\n",
       "      <td>127</td>\n",
       "      <td>208</td>\n",
       "      <td>133</td>\n",
       "      <td>122</td>\n",
       "    </tr>\n",
       "    <tr>\n",
       "      <th>EPI</th>\n",
       "      <td>46</td>\n",
       "      <td>13</td>\n",
       "      <td>72</td>\n",
       "      <td>101</td>\n",
       "      <td>161</td>\n",
       "      <td>98</td>\n",
       "      <td>98</td>\n",
       "    </tr>\n",
       "    <tr>\n",
       "      <th>FIB</th>\n",
       "      <td>82</td>\n",
       "      <td>18</td>\n",
       "      <td>138</td>\n",
       "      <td>169</td>\n",
       "      <td>234</td>\n",
       "      <td>139</td>\n",
       "      <td>189</td>\n",
       "    </tr>\n",
       "  </tbody>\n",
       "</table>\n",
       "</div>"
      ],
      "text/plain": [
       "      IMM  MISC  MEL  VASC  ANA  EPI  FIB\n",
       "IMM    79     6   55    66   82   52   63\n",
       "MISC    8     4   15    17   22   16   23\n",
       "MEL    19    10   59    70  109   56   68\n",
       "VASC   50     9   76   105  133   77  120\n",
       "ANA    48    16   83   127  208  133  122\n",
       "EPI    46    13   72   101  161   98   98\n",
       "FIB    82    18  138   169  234  139  189"
      ]
     },
     "execution_count": 56,
     "metadata": {},
     "output_type": "execute_result"
    }
   ],
   "source": [
    "quant_ligrec_1st_5w_df"
   ]
  },
  {
   "cell_type": "code",
   "execution_count": 57,
   "metadata": {},
   "outputs": [],
   "source": [
    "ligrec_1st_9w_df, ligrec_1st_9w_dict, quant_ligrec_1st_9w_df, quant_ligrec_1st_9w_dict = quantify_LigRec(lig_1st_9w, \n",
    "                                                                                                         rec_1st_9w,\n",
    "                                                                                                         PairsLigRec_mm_S)"
   ]
  },
  {
   "cell_type": "code",
   "execution_count": 58,
   "metadata": {},
   "outputs": [
    {
     "data": {
      "text/html": [
       "<div>\n",
       "<style scoped>\n",
       "    .dataframe tbody tr th:only-of-type {\n",
       "        vertical-align: middle;\n",
       "    }\n",
       "\n",
       "    .dataframe tbody tr th {\n",
       "        vertical-align: top;\n",
       "    }\n",
       "\n",
       "    .dataframe thead th {\n",
       "        text-align: right;\n",
       "    }\n",
       "</style>\n",
       "<table border=\"1\" class=\"dataframe\">\n",
       "  <thead>\n",
       "    <tr style=\"text-align: right;\">\n",
       "      <th></th>\n",
       "      <th>IMM</th>\n",
       "      <th>MISC</th>\n",
       "      <th>VASC</th>\n",
       "      <th>EPI</th>\n",
       "      <th>FIB</th>\n",
       "    </tr>\n",
       "  </thead>\n",
       "  <tbody>\n",
       "    <tr>\n",
       "      <th>IMM</th>\n",
       "      <td>79</td>\n",
       "      <td>6</td>\n",
       "      <td>66</td>\n",
       "      <td>52</td>\n",
       "      <td>63</td>\n",
       "    </tr>\n",
       "    <tr>\n",
       "      <th>MISC</th>\n",
       "      <td>8</td>\n",
       "      <td>4</td>\n",
       "      <td>17</td>\n",
       "      <td>16</td>\n",
       "      <td>23</td>\n",
       "    </tr>\n",
       "    <tr>\n",
       "      <th>VASC</th>\n",
       "      <td>50</td>\n",
       "      <td>9</td>\n",
       "      <td>105</td>\n",
       "      <td>77</td>\n",
       "      <td>120</td>\n",
       "    </tr>\n",
       "    <tr>\n",
       "      <th>EPI</th>\n",
       "      <td>46</td>\n",
       "      <td>13</td>\n",
       "      <td>101</td>\n",
       "      <td>98</td>\n",
       "      <td>98</td>\n",
       "    </tr>\n",
       "    <tr>\n",
       "      <th>FIB</th>\n",
       "      <td>82</td>\n",
       "      <td>18</td>\n",
       "      <td>169</td>\n",
       "      <td>139</td>\n",
       "      <td>189</td>\n",
       "    </tr>\n",
       "  </tbody>\n",
       "</table>\n",
       "</div>"
      ],
      "text/plain": [
       "      IMM  MISC  VASC  EPI  FIB\n",
       "IMM    79     6    66   52   63\n",
       "MISC    8     4    17   16   23\n",
       "VASC   50     9   105   77  120\n",
       "EPI    46    13   101   98   98\n",
       "FIB    82    18   169  139  189"
      ]
     },
     "execution_count": 58,
     "metadata": {},
     "output_type": "execute_result"
    }
   ],
   "source": [
    "quant_ligrec_1st_9w_df"
   ]
  },
  {
   "cell_type": "markdown",
   "metadata": {},
   "source": [
    "### Simulate background distribution"
   ]
  },
  {
   "cell_type": "code",
   "execution_count": 636,
   "metadata": {},
   "outputs": [
    {
     "name": "stderr",
     "output_type": "stream",
     "text": [
      "/Users/simjoo/anaconda/lib/python3.6/site-packages/ipykernel_launcher.py:17: DeprecationWarning: \n",
      ".ix is deprecated. Please use\n",
      ".loc for label based indexing or\n",
      ".iloc for positional indexing\n",
      "\n",
      "See the documentation here:\n",
      "http://pandas.pydata.org/pandas-docs/stable/indexing.html#ix-indexer-is-deprecated\n"
     ]
    }
   ],
   "source": [
    "sim_lig_rec_1st_5w = sim_lig_rec(rec_1st_5w, lig_1st_5w, PairsLigRec_mm_S, repeats = 10000)"
   ]
  },
  {
   "cell_type": "code",
   "execution_count": 686,
   "metadata": {},
   "outputs": [],
   "source": [
    "quant_sim_lig_rec_1st_5w = sim_lig_reg_get_p(quant_ligrec_1st_5w_dict, sim_lig_rec_1st_5w)"
   ]
  },
  {
   "cell_type": "code",
   "execution_count": 638,
   "metadata": {},
   "outputs": [],
   "source": [
    "sim_lig_rec_1st_9w = sim_lig_rec(rec_1st_9w, lig_1st_9w, PairsLigRec_mm_S, repeats = 10000)"
   ]
  },
  {
   "cell_type": "code",
   "execution_count": 687,
   "metadata": {},
   "outputs": [],
   "source": [
    "quant_sim_lig_rec_1st_9w = sim_lig_reg_get_p(quant_ligrec_1st_9w_dict, sim_lig_rec_1st_9w)"
   ]
  },
  {
   "cell_type": "markdown",
   "metadata": {},
   "source": [
    "### Get network - anagen (5w) (top 15 connections)"
   ]
  },
  {
   "cell_type": "code",
   "execution_count": 59,
   "metadata": {},
   "outputs": [],
   "source": [
    "from operator import itemgetter"
   ]
  },
  {
   "cell_type": "code",
   "execution_count": 60,
   "metadata": {},
   "outputs": [],
   "source": [
    "quant_ligrec_1st_5w_dict_s = sorted(quant_ligrec_1st_5w_dict.items(), key=itemgetter(1))"
   ]
  },
  {
   "cell_type": "code",
   "execution_count": 61,
   "metadata": {},
   "outputs": [],
   "source": [
    "gr_sel = [gr[0] for gr in quant_ligrec_1st_5w_dict_s[-15:]]"
   ]
  },
  {
   "cell_type": "code",
   "execution_count": 62,
   "metadata": {},
   "outputs": [
    {
     "data": {
      "text/plain": [
       "[('EPI - VASC', 101),\n",
       " ('VASC - VASC', 105),\n",
       " ('MEL - ANA', 109),\n",
       " ('VASC - FIB', 120),\n",
       " ('ANA - FIB', 122),\n",
       " ('ANA - VASC', 127),\n",
       " ('VASC - ANA', 133),\n",
       " ('ANA - EPI', 133),\n",
       " ('FIB - MEL', 138),\n",
       " ('FIB - EPI', 139),\n",
       " ('EPI - ANA', 161),\n",
       " ('FIB - VASC', 169),\n",
       " ('FIB - FIB', 189),\n",
       " ('ANA - ANA', 208),\n",
       " ('FIB - ANA', 234)]"
      ]
     },
     "execution_count": 62,
     "metadata": {},
     "output_type": "execute_result"
    }
   ],
   "source": [
    "quant_ligrec_1st_5w_dict_s[-15:]"
   ]
  },
  {
   "cell_type": "code",
   "execution_count": 63,
   "metadata": {},
   "outputs": [],
   "source": [
    "quant_ligrec_1st_5w_df_sel = pd.DataFrame(0, index = quant_ligrec_1st_5w_df.index, \n",
    "                                          columns = quant_ligrec_1st_5w_df.columns)\n",
    "\n",
    "for gr in gr_sel:\n",
    "    quant_ligrec_1st_5w_df_sel.loc[gr.split(' - ')[0],gr.split(' - ')[1]] = quant_ligrec_1st_5w_df.loc[gr.split(' - ')[0],gr.split(' - ')[1]]"
   ]
  },
  {
   "cell_type": "code",
   "execution_count": 64,
   "metadata": {},
   "outputs": [
    {
     "name": "stderr",
     "output_type": "stream",
     "text": [
      "/Users/simjoo/anaconda/lib/python3.6/site-packages/pygraphviz-1.4rc1-py3.6-macosx-10.7-x86_64.egg/pygraphviz/agraph.py:1334: RuntimeWarning: Warning: Arrow type \"None\" unknown - ignoring\n",
      "Warning: Arrow type \"None\" unknown - ignoring\n",
      "Warning: Arrow type \"None\" unknown - ignoring\n",
      "Warning: Arrow type \"None\" unknown - ignoring\n",
      "Warning: Arrow type \"None\" unknown - ignoring\n",
      "Warning: Arrow type \"None\" unknown - ignoring\n",
      "Warning: Arrow type \"None\" unknown - ignoring\n",
      "Warning: Arrow type \"None\" unknown - ignoring\n",
      "Warning: Arrow type \"None\" unknown - ignoring\n",
      "Warning: Arrow type \"None\" unknown - ignoring\n",
      "Warning: Arrow type \"None\" unknown - ignoring\n",
      "Warning: Arrow type \"None\" unknown - ignoring\n",
      "Warning: Arrow type \"None\" unknown - ignoring\n",
      "Warning: Arrow type \"None\" unknown - ignoring\n",
      "Warning: Arrow type \"None\" unknown - ignoring\n",
      "\n",
      "  warnings.warn(b\"\".join(errors).decode(self.encoding), RuntimeWarning)\n"
     ]
    }
   ],
   "source": [
    "gr_sel = gr_1st_5w\n",
    "data = quant_ligrec_1st_5w_df_sel.loc[gr_sel, gr_sel]\n",
    "dict_lig, dict_rec = lig_1st_5w, rec_1st_5w\n",
    "cmap = cmap_1st\n",
    "\n",
    "G = pgv.AGraph(strict = False, \n",
    "               dpi = 300, size = 15,\n",
    "               splines=False)\n",
    "\n",
    "for n in data.index:\n",
    "    G.add_node(n, \n",
    "               fillcolor = cmap[n], \n",
    "               style = 'filled', \n",
    "               shape = 'circle', \n",
    "               label = '', \n",
    "               width = (len(dict_lig[n]) + len(dict_rec[n])) * 0.001)\n",
    "    \n",
    "for e1,e2 in itertools.product(list(data.index), list(data.index)):\n",
    "    if data.loc[e1,e2] > 0:\n",
    "        G.add_edge(e1, e2, \n",
    "                   color = cmap[e1], \n",
    "                   weight = data.loc[e1,e2], \n",
    "                   penwidth = data.loc[e1,e2] * 0.025,\n",
    "                   dir = 'forward', arrowhead = None)\n",
    "\n",
    "G.draw('%s/v1.5_SupplementaryFigure8_RL_graph_1st_5w.pdf' % path_figures, prog = 'neato')"
   ]
  },
  {
   "cell_type": "code",
   "execution_count": 680,
   "metadata": {},
   "outputs": [],
   "source": [
    "gr_sel = [gr[0] for gr in quant_ligrec_1st_5w_dict_s[-15:]]"
   ]
  },
  {
   "cell_type": "code",
   "execution_count": 689,
   "metadata": {},
   "outputs": [
    {
     "name": "stdout",
     "output_type": "stream",
     "text": [
      "0.0\n",
      "0.0\n",
      "0.0\n",
      "0.0\n",
      "0.0\n",
      "0.0\n",
      "0.0\n",
      "0.0\n",
      "0.0\n",
      "0.0\n",
      "0.0\n",
      "0.0\n",
      "0.0\n",
      "0.0\n",
      "0.0\n"
     ]
    }
   ],
   "source": [
    "for gr in gr_sel: print(quant_sim_lig_rec_1st_5w.loc[gr.split(' - ')[0],gr.split(' - ')[1]])"
   ]
  },
  {
   "cell_type": "code",
   "execution_count": 690,
   "metadata": {},
   "outputs": [],
   "source": [
    "gr_sel = [gr[0] for gr in quant_ligrec_1st_9w_dict_s[-15:]]"
   ]
  },
  {
   "cell_type": "code",
   "execution_count": 691,
   "metadata": {},
   "outputs": [
    {
     "name": "stdout",
     "output_type": "stream",
     "text": [
      "0.0\n",
      "0.0\n",
      "0.0\n",
      "0.0\n",
      "0.0\n",
      "0.0\n",
      "0.1615\n",
      "0.0\n",
      "0.0\n",
      "0.0\n",
      "0.0\n",
      "0.0\n",
      "0.0\n",
      "0.0\n",
      "0.0\n"
     ]
    }
   ],
   "source": [
    "for gr in gr_sel: print(quant_sim_lig_rec_1st_9w.loc[gr.split(' - ')[0],gr.split(' - ')[1]])"
   ]
  },
  {
   "cell_type": "markdown",
   "metadata": {},
   "source": [
    "### Get network - telogen (9w)"
   ]
  },
  {
   "cell_type": "code",
   "execution_count": 65,
   "metadata": {},
   "outputs": [],
   "source": [
    "quant_ligrec_1st_9w_dict_s = sorted(quant_ligrec_1st_9w_dict.items(), key=itemgetter(1))"
   ]
  },
  {
   "cell_type": "code",
   "execution_count": 66,
   "metadata": {},
   "outputs": [],
   "source": [
    "gr_sel = [gr[0] for gr in quant_ligrec_1st_9w_dict_s[-15:]]"
   ]
  },
  {
   "cell_type": "code",
   "execution_count": 67,
   "metadata": {},
   "outputs": [
    {
     "data": {
      "text/plain": [
       "[('VASC - IMM', 50),\n",
       " ('IMM - EPI', 52),\n",
       " ('IMM - FIB', 63),\n",
       " ('IMM - VASC', 66),\n",
       " ('VASC - EPI', 77),\n",
       " ('IMM - IMM', 79),\n",
       " ('FIB - IMM', 82),\n",
       " ('EPI - EPI', 98),\n",
       " ('EPI - FIB', 98),\n",
       " ('EPI - VASC', 101),\n",
       " ('VASC - VASC', 105),\n",
       " ('VASC - FIB', 120),\n",
       " ('FIB - EPI', 139),\n",
       " ('FIB - VASC', 169),\n",
       " ('FIB - FIB', 189)]"
      ]
     },
     "execution_count": 67,
     "metadata": {},
     "output_type": "execute_result"
    }
   ],
   "source": [
    "quant_ligrec_1st_9w_dict_s[-15:]"
   ]
  },
  {
   "cell_type": "code",
   "execution_count": 68,
   "metadata": {},
   "outputs": [],
   "source": [
    "quant_ligrec_1st_9w_df_sel = pd.DataFrame(0, index = quant_ligrec_1st_9w_df.index, \n",
    "                                          columns = quant_ligrec_1st_9w_df.columns)\n",
    "\n",
    "for gr in gr_sel:\n",
    "    quant_ligrec_1st_9w_df_sel.loc[gr.split(' - ')[0],gr.split(' - ')[1]] = quant_ligrec_1st_9w_df.loc[gr.split(' - ')[0],gr.split(' - ')[1]]"
   ]
  },
  {
   "cell_type": "code",
   "execution_count": 69,
   "metadata": {},
   "outputs": [
    {
     "name": "stderr",
     "output_type": "stream",
     "text": [
      "/Users/simjoo/anaconda/lib/python3.6/site-packages/pygraphviz-1.4rc1-py3.6-macosx-10.7-x86_64.egg/pygraphviz/agraph.py:1334: RuntimeWarning: Warning: Arrow type \"None\" unknown - ignoring\n",
      "Warning: Arrow type \"None\" unknown - ignoring\n",
      "Warning: Arrow type \"None\" unknown - ignoring\n",
      "Warning: Arrow type \"None\" unknown - ignoring\n",
      "Warning: Arrow type \"None\" unknown - ignoring\n",
      "Warning: Arrow type \"None\" unknown - ignoring\n",
      "Warning: Arrow type \"None\" unknown - ignoring\n",
      "Warning: Arrow type \"None\" unknown - ignoring\n",
      "Warning: Arrow type \"None\" unknown - ignoring\n",
      "Warning: Arrow type \"None\" unknown - ignoring\n",
      "Warning: Arrow type \"None\" unknown - ignoring\n",
      "Warning: Arrow type \"None\" unknown - ignoring\n",
      "Warning: Arrow type \"None\" unknown - ignoring\n",
      "Warning: Arrow type \"None\" unknown - ignoring\n",
      "Warning: Arrow type \"None\" unknown - ignoring\n",
      "\n",
      "  warnings.warn(b\"\".join(errors).decode(self.encoding), RuntimeWarning)\n"
     ]
    }
   ],
   "source": [
    "gr_sel = gr_1st_9w\n",
    "data = quant_ligrec_1st_9w_df_sel.loc[gr_sel, gr_sel]\n",
    "dict_lig, dict_rec = lig_1st_9w, rec_1st_9w\n",
    "cmap = cmap_1st\n",
    "\n",
    "G = pgv.AGraph(strict = False, \n",
    "               dpi = 300, size = 15,\n",
    "               splines=False)\n",
    "\n",
    "for n in data.index:\n",
    "    G.add_node(n, \n",
    "               fillcolor = cmap[n], \n",
    "               style = 'filled', \n",
    "               shape = 'circle', \n",
    "               label = '', \n",
    "               width = (len(dict_lig[n]) + len(dict_rec[n])) * 0.001)\n",
    "        \n",
    "for e1,e2 in itertools.product(list(data.index), list(data.index)):\n",
    "    if data.loc[e1,e2] > 0:\n",
    "        G.add_edge(e1, e2, \n",
    "                   color = cmap[e1], \n",
    "                   weight = data.loc[e1,e2], \n",
    "                   penwidth = data.loc[e1,e2] * 0.025,\n",
    "                   dir = 'forward', arrowhead = None)\n",
    "\n",
    "G.draw('%s/v1.5_SupplementaryFigure8_RL_graph_1st_9w.pdf' % path_figures, prog = 'neato')"
   ]
  },
  {
   "cell_type": "markdown",
   "metadata": {},
   "source": [
    "# 2nd level clusters"
   ]
  },
  {
   "cell_type": "markdown",
   "metadata": {},
   "source": [
    "## Test for enrichment to define groups for time points"
   ]
  },
  {
   "cell_type": "code",
   "execution_count": 52,
   "metadata": {},
   "outputs": [],
   "source": [
    "stage_quant_2nd = pd.DataFrame(index = return_unique(cl_c_2nd_sel), columns = ['count anagen',\n",
    "                                                                           '% anagen',\n",
    "                                                                           'count telogen',\n",
    "                                                                           '% telogen',\n",
    "                                                                           'proba - 5w',\n",
    "                                                                           'proba - 9w'])\n",
    "\n",
    "for gr in return_unique(cl_c_2nd_sel):\n",
    "    c_sel = cl_c_1st_sel[cl_c_2nd_sel==gr].index\n",
    "    count_tmp = Counter(cells_stage[c_sel])\n",
    "    \n",
    "    stage_quant_2nd.loc[gr,'count anagen'] = count_tmp['5w']\n",
    "    stage_quant_2nd.loc[gr,'% anagen'] = stage_quant_2nd.loc[gr,'count anagen'] / len(c_sel)\n",
    "    stage_quant_2nd.loc[gr,'count telogen'] = count_tmp['9w']\n",
    "    stage_quant_2nd.loc[gr,'% telogen'] = stage_quant_2nd.loc[gr,'count telogen'] / len(c_sel)\n",
    "    stage_quant_2nd.loc[gr,['proba - 9w','proba - 5w']] = stage_get_pval_binomial_distr(len(c_sel), perc_anagen_all, stage_quant_2nd.loc[gr,'count anagen'])"
   ]
  },
  {
   "cell_type": "code",
   "execution_count": 53,
   "metadata": {},
   "outputs": [],
   "source": [
    "thr = 0.001 / 51"
   ]
  },
  {
   "cell_type": "code",
   "execution_count": 54,
   "metadata": {},
   "outputs": [
    {
     "data": {
      "text/plain": [
       "1.9607843137254903e-05"
      ]
     },
     "execution_count": 54,
     "metadata": {},
     "output_type": "execute_result"
    }
   ],
   "source": [
    "thr"
   ]
  },
  {
   "cell_type": "code",
   "execution_count": 55,
   "metadata": {},
   "outputs": [],
   "source": [
    "gr_2nd_5w_un = stage_quant_2nd['proba - 5w'][stage_quant_2nd['proba - 5w']<thr].index"
   ]
  },
  {
   "cell_type": "code",
   "execution_count": 56,
   "metadata": {},
   "outputs": [
    {
     "data": {
      "text/plain": [
       "25"
      ]
     },
     "execution_count": 56,
     "metadata": {},
     "output_type": "execute_result"
    }
   ],
   "source": [
    "len(gr_2nd_5w_un)"
   ]
  },
  {
   "cell_type": "code",
   "execution_count": 57,
   "metadata": {},
   "outputs": [],
   "source": [
    "gr_2nd_9w_un = stage_quant_2nd['proba - 9w'][stage_quant_2nd['proba - 9w']<thr].index"
   ]
  },
  {
   "cell_type": "code",
   "execution_count": 58,
   "metadata": {},
   "outputs": [
    {
     "data": {
      "text/plain": [
       "5"
      ]
     },
     "execution_count": 58,
     "metadata": {},
     "output_type": "execute_result"
    }
   ],
   "source": [
    "len(gr_2nd_9w_un)"
   ]
  },
  {
   "cell_type": "code",
   "execution_count": 59,
   "metadata": {},
   "outputs": [],
   "source": [
    "gr_2nd_5w = [gr for gr in set(cl_c_2nd_sel) if gr not in gr_2nd_9w_un]"
   ]
  },
  {
   "cell_type": "code",
   "execution_count": 60,
   "metadata": {},
   "outputs": [
    {
     "data": {
      "text/plain": [
       "46"
      ]
     },
     "execution_count": 60,
     "metadata": {},
     "output_type": "execute_result"
    }
   ],
   "source": [
    "len(gr_2nd_5w)"
   ]
  },
  {
   "cell_type": "code",
   "execution_count": 61,
   "metadata": {},
   "outputs": [],
   "source": [
    "gr_2nd_9w = [gr for gr in set(cl_c_2nd_sel) if gr not in gr_2nd_5w_un]"
   ]
  },
  {
   "cell_type": "code",
   "execution_count": 62,
   "metadata": {},
   "outputs": [
    {
     "data": {
      "text/plain": [
       "26"
      ]
     },
     "execution_count": 62,
     "metadata": {},
     "output_type": "execute_result"
    }
   ],
   "source": [
    "len(gr_2nd_9w)"
   ]
  },
  {
   "cell_type": "markdown",
   "metadata": {},
   "source": [
    "### Get receptor and ligands"
   ]
  },
  {
   "cell_type": "code",
   "execution_count": 63,
   "metadata": {},
   "outputs": [],
   "source": [
    "thr = -np.log10(0.001)"
   ]
  },
  {
   "cell_type": "code",
   "execution_count": 64,
   "metadata": {},
   "outputs": [],
   "source": [
    "lig_2nd = {}\n",
    "\n",
    "for gr in return_unique(cl_c_2nd_sel):\n",
    "    lig_tmp = MWU_lig[gr][MWU_lig[gr]>thr].index\n",
    "    lig_2nd[gr] = lig_tmp"
   ]
  },
  {
   "cell_type": "code",
   "execution_count": 65,
   "metadata": {},
   "outputs": [
    {
     "name": "stdout",
     "output_type": "stream",
     "text": [
      "EPI - 0 21\n",
      "EPI - 1 38\n",
      "EPI - 2 21\n",
      "EPI - 3 36\n",
      "EPI - 4 29\n",
      "EPI - 5 11\n",
      "EPI - 6 9\n",
      "EPI - 7 25\n",
      "EPI - 8 16\n",
      "ANA - 1 17\n",
      "ANA - 21 17\n",
      "ANA - 0 13\n",
      "ANA - 2 60\n",
      "ANA - 3 53\n",
      "ANA - 20 20\n",
      "ANA - 16 32\n",
      "ANA - 13 17\n",
      "ANA - 15 34\n",
      "ANA - 12 10\n",
      "ANA - 17 35\n",
      "ANA - 5 20\n",
      "ANA - 4 12\n",
      "ANA - 14 9\n",
      "ANA - 6 11\n",
      "ANA - 7 8\n",
      "ANA - 10 7\n",
      "ANA - 11 6\n",
      "ANA - 18 20\n",
      "ANA - 8 19\n",
      "FIB - 6 101\n",
      "FIB - 5 94\n",
      "FIB - 4 66\n",
      "FIB - 3 78\n",
      "FIB - 1 24\n",
      "FIB - 2 62\n",
      "FIB - 0 51\n",
      "IMM - 3 15\n",
      "IMM - 4 41\n",
      "IMM - 1 36\n",
      "IMM - 5 28\n",
      "IMM - 2 25\n",
      "IMM - 0 16\n",
      "VASC - 3 37\n",
      "VASC - 2 50\n",
      "VASC - 0 41\n",
      "VASC - 1 34\n",
      "MEL - 1 23\n",
      "MEL - 2 50\n",
      "MEL - 0 21\n",
      "MISC - 0 0\n",
      "MISC - 1 14\n"
     ]
    }
   ],
   "source": [
    "for k in lig_2nd.keys():\n",
    "    print(k, len(lig_2nd[k]))"
   ]
  },
  {
   "cell_type": "code",
   "execution_count": 66,
   "metadata": {},
   "outputs": [],
   "source": [
    "lig_2nd_5w = {k:lig_2nd[k] for k in gr_2nd_5w}\n",
    "lig_2nd_9w = {k:lig_2nd[k] for k in gr_2nd_9w}"
   ]
  },
  {
   "cell_type": "code",
   "execution_count": 67,
   "metadata": {},
   "outputs": [],
   "source": [
    "rec_2nd = {}\n",
    "\n",
    "for gr in return_unique(cl_c_2nd_sel):\n",
    "    rec_tmp = MWU_rec[gr][MWU_rec[gr]>thr].index\n",
    "    rec_2nd[gr] = rec_tmp"
   ]
  },
  {
   "cell_type": "code",
   "execution_count": 68,
   "metadata": {},
   "outputs": [
    {
     "name": "stdout",
     "output_type": "stream",
     "text": [
      "EPI - 0 23\n",
      "EPI - 1 30\n",
      "EPI - 2 23\n",
      "EPI - 3 50\n",
      "EPI - 4 19\n",
      "EPI - 5 6\n",
      "EPI - 6 7\n",
      "EPI - 7 18\n",
      "EPI - 8 11\n",
      "ANA - 1 9\n",
      "ANA - 21 17\n",
      "ANA - 0 16\n",
      "ANA - 2 44\n",
      "ANA - 3 37\n",
      "ANA - 20 23\n",
      "ANA - 16 32\n",
      "ANA - 13 18\n",
      "ANA - 15 31\n",
      "ANA - 12 5\n",
      "ANA - 17 38\n",
      "ANA - 5 29\n",
      "ANA - 4 9\n",
      "ANA - 14 10\n",
      "ANA - 6 15\n",
      "ANA - 7 11\n",
      "ANA - 10 18\n",
      "ANA - 11 12\n",
      "ANA - 18 36\n",
      "ANA - 8 48\n",
      "FIB - 6 41\n",
      "FIB - 5 37\n",
      "FIB - 4 19\n",
      "FIB - 3 31\n",
      "FIB - 1 13\n",
      "FIB - 2 37\n",
      "FIB - 0 39\n",
      "IMM - 3 25\n",
      "IMM - 4 34\n",
      "IMM - 1 38\n",
      "IMM - 5 29\n",
      "IMM - 2 33\n",
      "IMM - 0 22\n",
      "VASC - 3 54\n",
      "VASC - 2 65\n",
      "VASC - 0 28\n",
      "VASC - 1 46\n",
      "MEL - 1 25\n",
      "MEL - 2 55\n",
      "MEL - 0 14\n",
      "MISC - 0 0\n",
      "MISC - 1 12\n"
     ]
    }
   ],
   "source": [
    "for k in rec_2nd.keys():\n",
    "    print(k, len(rec_2nd[k]))"
   ]
  },
  {
   "cell_type": "code",
   "execution_count": 69,
   "metadata": {},
   "outputs": [],
   "source": [
    "rec_2nd_5w = {k:rec_2nd[k] for k in gr_2nd_5w}\n",
    "rec_2nd_9w = {k:rec_2nd[k] for k in gr_2nd_9w}"
   ]
  },
  {
   "cell_type": "code",
   "execution_count": 70,
   "metadata": {},
   "outputs": [
    {
     "name": "stdout",
     "output_type": "stream",
     "text": [
      "EPI - 0 44\n",
      "EPI - 1 68\n",
      "EPI - 2 44\n",
      "EPI - 3 86\n",
      "EPI - 4 48\n",
      "EPI - 5 17\n",
      "EPI - 6 16\n",
      "EPI - 7 43\n",
      "EPI - 8 27\n",
      "ANA - 1 26\n",
      "ANA - 21 34\n",
      "ANA - 0 29\n",
      "ANA - 2 104\n",
      "ANA - 3 90\n",
      "ANA - 20 43\n",
      "ANA - 16 64\n",
      "ANA - 13 35\n",
      "ANA - 15 65\n",
      "ANA - 12 15\n",
      "ANA - 17 73\n",
      "ANA - 5 49\n",
      "ANA - 4 21\n",
      "ANA - 14 19\n",
      "ANA - 6 26\n",
      "ANA - 7 19\n",
      "ANA - 10 25\n",
      "ANA - 11 18\n",
      "ANA - 18 56\n",
      "ANA - 8 67\n",
      "FIB - 6 142\n",
      "FIB - 5 131\n",
      "FIB - 4 85\n",
      "FIB - 3 109\n",
      "FIB - 1 37\n",
      "FIB - 2 99\n",
      "FIB - 0 90\n",
      "IMM - 3 40\n",
      "IMM - 4 75\n",
      "IMM - 1 74\n",
      "IMM - 5 57\n",
      "IMM - 2 58\n",
      "IMM - 0 38\n",
      "VASC - 3 91\n",
      "VASC - 2 115\n",
      "VASC - 0 69\n",
      "VASC - 1 80\n",
      "MEL - 1 48\n",
      "MEL - 2 105\n",
      "MEL - 0 35\n",
      "MISC - 0 0\n",
      "MISC - 1 26\n"
     ]
    }
   ],
   "source": [
    "for k in rec_2nd.keys():\n",
    "    print(k, len(rec_2nd[k]) + len(lig_2nd[k]))"
   ]
  },
  {
   "cell_type": "code",
   "execution_count": 71,
   "metadata": {},
   "outputs": [
    {
     "name": "stdout",
     "output_type": "stream",
     "text": [
      "EPI - 0 3.742410318509555\n",
      "EPI - 1 4.652426491681278\n",
      "EPI - 2 3.742410318509555\n",
      "EPI - 3 5.232078956954491\n",
      "EPI - 4 3.9088200952233594\n",
      "EPI - 5 2.326213245840639\n",
      "EPI - 6 2.256758334191025\n",
      "EPI - 7 3.6996385101659595\n",
      "EPI - 8 2.9316150714175193\n",
      "ANA - 1 2.876813695875796\n",
      "ANA - 21 3.2897623212397704\n",
      "ANA - 0 3.0382538898732494\n",
      "ANA - 2 5.753627391751592\n",
      "ANA - 3 5.352372348458314\n",
      "ANA - 20 3.6996385101659595\n",
      "ANA - 16 4.51351666838205\n",
      "ANA - 13 3.3377905890622728\n",
      "ANA - 15 4.54864184146723\n",
      "ANA - 12 2.1850968611841584\n",
      "ANA - 17 4.820437914901168\n",
      "ANA - 5 3.949327084834294\n",
      "ANA - 4 2.5854414729132054\n",
      "ANA - 14 2.4592453796829674\n",
      "ANA - 6 2.876813695875796\n",
      "ANA - 7 2.4592453796829674\n",
      "ANA - 10 2.8209479177387813\n",
      "ANA - 11 2.393653682408596\n",
      "ANA - 18 4.222008245644752\n",
      "ANA - 8 4.61809077155419\n",
      "FIB - 6 6.723094811029982\n",
      "FIB - 5 6.457444935117649\n",
      "FIB - 4 5.201570947860099\n",
      "FIB - 3 5.890312181373172\n",
      "FIB - 1 3.431831258788849\n",
      "FIB - 2 5.613615477764332\n",
      "FIB - 0 5.352372348458314\n",
      "IMM - 3 3.5682482323055424\n",
      "IMM - 4 4.886025119029199\n",
      "IMM - 1 4.853342309955121\n",
      "IMM - 5 4.259537945889915\n",
      "IMM - 2 4.296739856991561\n",
      "IMM - 0 3.477898169151024\n",
      "VASC - 3 5.382025607773058\n",
      "VASC - 2 6.050259243299904\n",
      "VASC - 0 4.686510657907603\n",
      "VASC - 1 5.046265044040321\n",
      "MEL - 1 3.9088200952233594\n",
      "MEL - 2 5.781222885281108\n",
      "MEL - 0 3.3377905890622728\n",
      "MISC - 0 0.0\n",
      "MISC - 1 2.876813695875796\n"
     ]
    }
   ],
   "source": [
    "for k in rec_2nd.keys():\n",
    "    print(k, np.sqrt((len(rec_2nd[k]) + len(lig_2nd[k])) / np.pi))"
   ]
  },
  {
   "cell_type": "markdown",
   "metadata": {},
   "source": [
    "### Get receptor-ligand pairs"
   ]
  },
  {
   "cell_type": "code",
   "execution_count": 182,
   "metadata": {},
   "outputs": [],
   "source": [
    "ligrec_2nd_5w_df, ligrec_2nd_5w_dict, quant_ligrec_2nd_5w_df, quant_ligrec_2nd_5w_dict = quantify_LigRec(lig_2nd_5w, \n",
    "                                                                                                         rec_2nd_5w,\n",
    "                                                                                                         PairsLigRec_mm_S)"
   ]
  },
  {
   "cell_type": "code",
   "execution_count": 183,
   "metadata": {},
   "outputs": [],
   "source": [
    "ligrec_2nd_9w_df, ligrec_2nd_9w_dict, quant_ligrec_2nd_9w_df, quant_ligrec_2nd_9w_dict = quantify_LigRec(lig_2nd_9w, \n",
    "                                                                                                         rec_2nd_9w,\n",
    "                                                                                                         PairsLigRec_mm_S)"
   ]
  },
  {
   "cell_type": "markdown",
   "metadata": {},
   "source": [
    "### Get network - anagen (5w)"
   ]
  },
  {
   "cell_type": "code",
   "execution_count": 93,
   "metadata": {},
   "outputs": [],
   "source": [
    "gr_epidermis = [gr for gr in quant_ligrec_2nd_5w_df.index if gr.split(' - ')[0] in ['EPI','ANA']]\n",
    "gr_dermis = [gr for gr in quant_ligrec_2nd_5w_df.index if gr.split(' - ')[0] in ['FIB','IMM','VASC','MEL','MISC']]\n",
    "\n",
    "quant_ligrec_2nd_5w_df_sel = quant_ligrec_2nd_5w_df.copy()\n",
    "quant_ligrec_2nd_5w_df_sel = quant_ligrec_2nd_5w_df_sel.loc[gr_epidermis + gr_dermis, gr_epidermis + gr_dermis]\n",
    "quant_ligrec_2nd_5w_df_sel.loc[gr_epidermis, gr_epidermis] = 0\n",
    "quant_ligrec_2nd_5w_df_sel.loc[gr_dermis, gr_dermis] = 0"
   ]
  },
  {
   "cell_type": "code",
   "execution_count": 94,
   "metadata": {
    "scrolled": false
   },
   "outputs": [],
   "source": [
    "quant_ligrec_2nd_5w_dict_sel = {}\n",
    "\n",
    "for ix in quant_ligrec_2nd_5w_df_sel.index:\n",
    "    for col in quant_ligrec_2nd_5w_df_sel.columns:\n",
    "        quant_ligrec_2nd_5w_dict_sel['%s = %s' % (ix, col)] = quant_ligrec_2nd_5w_df_sel.loc[ix, col]"
   ]
  },
  {
   "cell_type": "code",
   "execution_count": 95,
   "metadata": {},
   "outputs": [],
   "source": [
    "quant_ligrec_2nd_5w_dict_sel_s = sorted(quant_ligrec_2nd_5w_dict_sel.items(), key=itemgetter(1))"
   ]
  },
  {
   "cell_type": "code",
   "execution_count": 96,
   "metadata": {},
   "outputs": [],
   "source": [
    "gr_sel = [gr[0] for gr in quant_ligrec_2nd_5w_dict_sel_s[-15:]]"
   ]
  },
  {
   "cell_type": "code",
   "execution_count": 97,
   "metadata": {
    "scrolled": false
   },
   "outputs": [
    {
     "data": {
      "text/plain": [
       "[('FIB - 3 = ANA - 17', 39),\n",
       " ('FIB - 2 = ANA - 17', 39),\n",
       " ('ANA - 2 = MEL - 2', 40),\n",
       " ('FIB - 2 = ANA - 5', 40),\n",
       " ('ANA - 3 = VASC - 2', 41),\n",
       " ('FIB - 3 = ANA - 3', 43),\n",
       " ('ANA - 2 = FIB - 2', 45),\n",
       " ('FIB - 3 = ANA - 5', 45),\n",
       " ('FIB - 6 = ANA - 3', 49),\n",
       " ('ANA - 2 = VASC - 2', 50),\n",
       " ('FIB - 6 = ANA - 17', 51),\n",
       " ('FIB - 2 = ANA - 2', 55),\n",
       " ('FIB - 6 = ANA - 5', 56),\n",
       " ('FIB - 3 = ANA - 2', 59),\n",
       " ('FIB - 6 = ANA - 2', 62)]"
      ]
     },
     "execution_count": 97,
     "metadata": {},
     "output_type": "execute_result"
    }
   ],
   "source": [
    "quant_ligrec_2nd_5w_dict_sel_s[-15:]"
   ]
  },
  {
   "cell_type": "code",
   "execution_count": 98,
   "metadata": {
    "scrolled": false
   },
   "outputs": [],
   "source": [
    "quant_ligrec_2nd_5w_df_sel_ = pd.DataFrame(0, index = quant_ligrec_2nd_5w_df_sel.index, \n",
    "                                           columns = quant_ligrec_2nd_5w_df_sel.columns)\n",
    "\n",
    "for gr in gr_sel:\n",
    "    quant_ligrec_2nd_5w_df_sel_.loc[gr.split(' = ')[0],gr.split(' = ')[1]] = quant_ligrec_2nd_5w_df_sel.loc[gr.split(' = ')[0],gr.split(' = ')[1]]"
   ]
  },
  {
   "cell_type": "code",
   "execution_count": 99,
   "metadata": {},
   "outputs": [
    {
     "name": "stderr",
     "output_type": "stream",
     "text": [
      "/Users/simjoo/anaconda/lib/python3.6/site-packages/pygraphviz-1.4rc1-py3.6-macosx-10.7-x86_64.egg/pygraphviz/agraph.py:1334: RuntimeWarning: Warning: Arrow type \"None\" unknown - ignoring\n",
      "Warning: Arrow type \"None\" unknown - ignoring\n",
      "Warning: Arrow type \"None\" unknown - ignoring\n",
      "Warning: Arrow type \"None\" unknown - ignoring\n",
      "Warning: Arrow type \"None\" unknown - ignoring\n",
      "Warning: Arrow type \"None\" unknown - ignoring\n",
      "Warning: Arrow type \"None\" unknown - ignoring\n",
      "Warning: Arrow type \"None\" unknown - ignoring\n",
      "Warning: Arrow type \"None\" unknown - ignoring\n",
      "Warning: Arrow type \"None\" unknown - ignoring\n",
      "Warning: Arrow type \"None\" unknown - ignoring\n",
      "Warning: Arrow type \"None\" unknown - ignoring\n",
      "Warning: Arrow type \"None\" unknown - ignoring\n",
      "Warning: Arrow type \"None\" unknown - ignoring\n",
      "Warning: Arrow type \"None\" unknown - ignoring\n",
      "\n",
      "  warnings.warn(b\"\".join(errors).decode(self.encoding), RuntimeWarning)\n"
     ]
    }
   ],
   "source": [
    "data =  quant_ligrec_2nd_5w_df_sel_\n",
    "dict_lig, dict_rec = lig_2nd_5w, rec_2nd_5w\n",
    "cmap = cmap_1st\n",
    "\n",
    "G = pgv.AGraph(strict = False, \n",
    "               dpi = 300, size = 15,\n",
    "               splines=False)\n",
    "\n",
    "for n in data.index:\n",
    "    G.add_node(n, \n",
    "               fillcolor = cmap[n.split(' - ')[0]], \n",
    "               style = 'filled', \n",
    "               shape = 'circle', \n",
    "               label = n, \n",
    "               width = (len(dict_lig[n]) + len(dict_rec[n])) * 0.005)\n",
    "    \n",
    "for e1,e2 in itertools.product(list(data.index), list(data.index)):\n",
    "    if data.loc[e1,e2] > 0:\n",
    "        G.add_edge(e1, e2, \n",
    "                   color = cmap[e1.split(' - ')[0]], \n",
    "                   weight = data.loc[e1,e2], \n",
    "                   penwidth = data.loc[e1,e2] * 0.25,\n",
    "                   dir = 'forward', arrowhead = None)\n",
    "\n",
    "G.draw('%s/v1.5_SupplementaryFigure8_RL_graph_2nd_5w_lab.pdf' % path_figures, prog = 'neato')"
   ]
  },
  {
   "cell_type": "code",
   "execution_count": 101,
   "metadata": {},
   "outputs": [
    {
     "name": "stderr",
     "output_type": "stream",
     "text": [
      "/Users/simjoo/anaconda/lib/python3.6/site-packages/pygraphviz-1.4rc1-py3.6-macosx-10.7-x86_64.egg/pygraphviz/agraph.py:1334: RuntimeWarning: Warning: Arrow type \"None\" unknown - ignoring\n",
      "Warning: Arrow type \"None\" unknown - ignoring\n",
      "Warning: Arrow type \"None\" unknown - ignoring\n",
      "Warning: Arrow type \"None\" unknown - ignoring\n",
      "Warning: Arrow type \"None\" unknown - ignoring\n",
      "Warning: Arrow type \"None\" unknown - ignoring\n",
      "Warning: Arrow type \"None\" unknown - ignoring\n",
      "Warning: Arrow type \"None\" unknown - ignoring\n",
      "Warning: Arrow type \"None\" unknown - ignoring\n",
      "Warning: Arrow type \"None\" unknown - ignoring\n",
      "Warning: Arrow type \"None\" unknown - ignoring\n",
      "Warning: Arrow type \"None\" unknown - ignoring\n",
      "Warning: Arrow type \"None\" unknown - ignoring\n",
      "Warning: Arrow type \"None\" unknown - ignoring\n",
      "Warning: Arrow type \"None\" unknown - ignoring\n",
      "\n",
      "  warnings.warn(b\"\".join(errors).decode(self.encoding), RuntimeWarning)\n"
     ]
    }
   ],
   "source": [
    "data =  quant_ligrec_2nd_5w_df_sel_\n",
    "dict_lig, dict_rec = lig_2nd_5w, rec_2nd_5w\n",
    "cmap = cmap_1st\n",
    "\n",
    "G = pgv.AGraph(strict = False, \n",
    "               dpi = 300, size = 15,\n",
    "               splines=False)\n",
    "\n",
    "for n in data.index:\n",
    "    G.add_node(n, \n",
    "               fillcolor = cmap[n.split(' - ')[0]], \n",
    "               style = 'filled', \n",
    "               shape = 'circle', \n",
    "               label = '', \n",
    "               width = (len(dict_lig[n]) + len(dict_rec[n])) * 0.005)\n",
    "    \n",
    "for e1,e2 in itertools.product(list(data.index), list(data.index)):\n",
    "    if data.loc[e1,e2] > 0:\n",
    "        G.add_edge(e1, e2, \n",
    "                   color = cmap[e1.split(' - ')[0]], \n",
    "                   weight = data.loc[e1,e2], \n",
    "                   penwidth = data.loc[e1,e2] * 0.25,\n",
    "                   dir = 'forward', arrowhead = None)\n",
    "\n",
    "G.draw('%s/v1.5_SupplementaryFigure8_RL_graph_2nd_5w.pdf' % path_figures, prog = 'neato')"
   ]
  },
  {
   "cell_type": "markdown",
   "metadata": {},
   "source": [
    "### Get network - anagen (9w)"
   ]
  },
  {
   "cell_type": "code",
   "execution_count": 102,
   "metadata": {},
   "outputs": [],
   "source": [
    "gr_epidermis = [gr for gr in quant_ligrec_2nd_9w_df.index if gr.split(' - ')[0] in ['EPI','ANA']]\n",
    "gr_dermis = [gr for gr in quant_ligrec_2nd_9w_df.index if gr.split(' - ')[0] in ['FIB','IMM','VASC','MEL','MISC']]\n",
    "\n",
    "quant_ligrec_2nd_9w_df_sel = quant_ligrec_2nd_9w_df.copy()\n",
    "quant_ligrec_2nd_9w_df_sel = quant_ligrec_2nd_9w_df_sel.loc[gr_epidermis + gr_dermis, gr_epidermis + gr_dermis]\n",
    "quant_ligrec_2nd_9w_df_sel.loc[gr_epidermis, gr_epidermis] = 0\n",
    "quant_ligrec_2nd_9w_df_sel.loc[gr_dermis, gr_dermis] = 0"
   ]
  },
  {
   "cell_type": "code",
   "execution_count": 103,
   "metadata": {},
   "outputs": [],
   "source": [
    "quant_ligrec_2nd_9w_dict_sel = {}\n",
    "\n",
    "for ix in quant_ligrec_2nd_9w_df_sel.index:\n",
    "    for col in quant_ligrec_2nd_9w_df_sel.columns:\n",
    "        quant_ligrec_2nd_9w_dict_sel['%s = %s' % (ix, col)] = quant_ligrec_2nd_9w_df_sel.loc[ix, col]"
   ]
  },
  {
   "cell_type": "code",
   "execution_count": 104,
   "metadata": {},
   "outputs": [],
   "source": [
    "quant_ligrec_2nd_9w_dict_sel_s = sorted(quant_ligrec_2nd_9w_dict_sel.items(), key=itemgetter(1))"
   ]
  },
  {
   "cell_type": "code",
   "execution_count": 105,
   "metadata": {},
   "outputs": [],
   "source": [
    "gr_sel = [gr[0] for gr in quant_ligrec_2nd_9w_dict_sel_s[-15:]]"
   ]
  },
  {
   "cell_type": "code",
   "execution_count": 106,
   "metadata": {},
   "outputs": [
    {
     "data": {
      "text/plain": [
       "[('EPI - 1 = VASC - 1', 17),\n",
       " ('VASC - 0 = EPI - 1', 17),\n",
       " ('FIB - 5 = EPI - 3', 17),\n",
       " ('EPI - 1 = VASC - 3', 18),\n",
       " ('FIB - 0 = EPI - 1', 19),\n",
       " ('EPI - 3 = VASC - 2', 20),\n",
       " ('FIB - 0 = EPI - 3', 20),\n",
       " ('FIB - 5 = EPI - 4', 22),\n",
       " ('FIB - 6 = EPI - 4', 22),\n",
       " ('FIB - 6 = EPI - 3', 22),\n",
       " ('EPI - 1 = VASC - 2', 27),\n",
       " ('FIB - 4 = EPI - 1', 27),\n",
       " ('EPI - 4 = VASC - 2', 28),\n",
       " ('FIB - 5 = EPI - 1', 37),\n",
       " ('FIB - 6 = EPI - 1', 38)]"
      ]
     },
     "execution_count": 106,
     "metadata": {},
     "output_type": "execute_result"
    }
   ],
   "source": [
    "quant_ligrec_2nd_9w_dict_sel_s[-15:]"
   ]
  },
  {
   "cell_type": "code",
   "execution_count": 107,
   "metadata": {},
   "outputs": [],
   "source": [
    "quant_ligrec_2nd_9w_df_sel_ = pd.DataFrame(0, index = quant_ligrec_2nd_9w_df_sel.index, \n",
    "                                           columns = quant_ligrec_2nd_9w_df_sel.columns)\n",
    "\n",
    "for gr in gr_sel:\n",
    "    quant_ligrec_2nd_9w_df_sel_.loc[gr.split(' = ')[0],gr.split(' = ')[1]] = quant_ligrec_2nd_9w_df_sel.loc[gr.split(' = ')[0],gr.split(' = ')[1]]"
   ]
  },
  {
   "cell_type": "code",
   "execution_count": 110,
   "metadata": {},
   "outputs": [
    {
     "name": "stderr",
     "output_type": "stream",
     "text": [
      "/Users/simjoo/anaconda/lib/python3.6/site-packages/pygraphviz-1.4rc1-py3.6-macosx-10.7-x86_64.egg/pygraphviz/agraph.py:1334: RuntimeWarning: Warning: Arrow type \"None\" unknown - ignoring\n",
      "Warning: Arrow type \"None\" unknown - ignoring\n",
      "Warning: Arrow type \"None\" unknown - ignoring\n",
      "Warning: Arrow type \"None\" unknown - ignoring\n",
      "Warning: Arrow type \"None\" unknown - ignoring\n",
      "Warning: Arrow type \"None\" unknown - ignoring\n",
      "Warning: Arrow type \"None\" unknown - ignoring\n",
      "Warning: Arrow type \"None\" unknown - ignoring\n",
      "Warning: Arrow type \"None\" unknown - ignoring\n",
      "Warning: Arrow type \"None\" unknown - ignoring\n",
      "Warning: Arrow type \"None\" unknown - ignoring\n",
      "Warning: Arrow type \"None\" unknown - ignoring\n",
      "Warning: Arrow type \"None\" unknown - ignoring\n",
      "Warning: Arrow type \"None\" unknown - ignoring\n",
      "Warning: Arrow type \"None\" unknown - ignoring\n",
      "\n",
      "  warnings.warn(b\"\".join(errors).decode(self.encoding), RuntimeWarning)\n"
     ]
    }
   ],
   "source": [
    "data =  quant_ligrec_2nd_9w_df_sel_\n",
    "dict_lig, dict_rec = lig_2nd_9w, rec_2nd_9w\n",
    "cmap = cmap_1st\n",
    "\n",
    "G = pgv.AGraph(strict = False, \n",
    "               dpi = 300, size = 15,\n",
    "               splines=False)\n",
    "\n",
    "for n in data.index:\n",
    "    G.add_node(n, \n",
    "               fillcolor = cmap[n.split(' - ')[0]], \n",
    "               style = 'filled', \n",
    "               shape = 'circle', \n",
    "               label = n, \n",
    "               width = (len(dict_lig[n]) + len(dict_rec[n])) * 0.005)\n",
    "    \n",
    "for e1,e2 in itertools.product(list(data.index), list(data.index)):\n",
    "    if data.loc[e1,e2] > 0:\n",
    "        G.add_edge(e1, e2, \n",
    "                   color = cmap[e1.split(' - ')[0]], \n",
    "                   weight = data.loc[e1,e2], \n",
    "                   penwidth = data.loc[e1,e2] * 0.25,\n",
    "                   dir = 'forward', arrowhead = None)\n",
    "\n",
    "G.draw('%s/v1.5_SupplementaryFigure8_RL_graph_2nd_9w_alb.pdf' % path_figures, prog = 'neato')"
   ]
  },
  {
   "cell_type": "code",
   "execution_count": 111,
   "metadata": {},
   "outputs": [
    {
     "name": "stderr",
     "output_type": "stream",
     "text": [
      "/Users/simjoo/anaconda/lib/python3.6/site-packages/pygraphviz-1.4rc1-py3.6-macosx-10.7-x86_64.egg/pygraphviz/agraph.py:1334: RuntimeWarning: Warning: Arrow type \"None\" unknown - ignoring\n",
      "Warning: Arrow type \"None\" unknown - ignoring\n",
      "Warning: Arrow type \"None\" unknown - ignoring\n",
      "Warning: Arrow type \"None\" unknown - ignoring\n",
      "Warning: Arrow type \"None\" unknown - ignoring\n",
      "Warning: Arrow type \"None\" unknown - ignoring\n",
      "Warning: Arrow type \"None\" unknown - ignoring\n",
      "Warning: Arrow type \"None\" unknown - ignoring\n",
      "Warning: Arrow type \"None\" unknown - ignoring\n",
      "Warning: Arrow type \"None\" unknown - ignoring\n",
      "Warning: Arrow type \"None\" unknown - ignoring\n",
      "Warning: Arrow type \"None\" unknown - ignoring\n",
      "Warning: Arrow type \"None\" unknown - ignoring\n",
      "Warning: Arrow type \"None\" unknown - ignoring\n",
      "Warning: Arrow type \"None\" unknown - ignoring\n",
      "\n",
      "  warnings.warn(b\"\".join(errors).decode(self.encoding), RuntimeWarning)\n"
     ]
    }
   ],
   "source": [
    "data =  quant_ligrec_2nd_9w_df_sel_\n",
    "dict_lig, dict_rec = lig_2nd_9w, rec_2nd_9w\n",
    "cmap = cmap_1st\n",
    "\n",
    "G = pgv.AGraph(strict = False, \n",
    "               dpi = 300, size = 15,\n",
    "               splines=False)\n",
    "\n",
    "for n in data.index:\n",
    "    G.add_node(n, \n",
    "               fillcolor = cmap[n.split(' - ')[0]], \n",
    "               style = 'filled', \n",
    "               shape = 'circle', \n",
    "               label = '', \n",
    "               width = (len(dict_lig[n]) + len(dict_rec[n])) * 0.005)\n",
    "    \n",
    "for e1,e2 in itertools.product(list(data.index), list(data.index)):\n",
    "    if data.loc[e1,e2] > 0:\n",
    "        G.add_edge(e1, e2, \n",
    "                   color = cmap[e1.split(' - ')[0]], \n",
    "                   weight = data.loc[e1,e2], \n",
    "                   penwidth = data.loc[e1,e2] * 0.25,\n",
    "                   dir = 'forward', arrowhead = None)\n",
    "\n",
    "G.draw('%s/v1.5_SupplementaryFigure8_RL_graph_2nd_9w.pdf' % path_figures, prog = 'neato')"
   ]
  },
  {
   "cell_type": "markdown",
   "metadata": {
    "collapsed": true
   },
   "source": [
    "# Get sets of interactions"
   ]
  },
  {
   "cell_type": "code",
   "execution_count": 223,
   "metadata": {
    "scrolled": false
   },
   "outputs": [
    {
     "data": {
      "text/plain": [
       "[('FIB - 2 = ANA - 17', 39),\n",
       " ('FIB - 3 = ANA - 17', 39),\n",
       " ('ANA - 2 = MEL - 2', 40),\n",
       " ('FIB - 2 = ANA - 5', 40),\n",
       " ('ANA - 3 = VASC - 2', 41),\n",
       " ('FIB - 3 = ANA - 3', 43),\n",
       " ('ANA - 2 = FIB - 2', 45),\n",
       " ('FIB - 3 = ANA - 5', 45),\n",
       " ('FIB - 6 = ANA - 3', 49),\n",
       " ('ANA - 2 = VASC - 2', 50),\n",
       " ('FIB - 6 = ANA - 17', 51),\n",
       " ('FIB - 2 = ANA - 2', 55),\n",
       " ('FIB - 6 = ANA - 5', 56),\n",
       " ('FIB - 3 = ANA - 2', 59),\n",
       " ('FIB - 6 = ANA - 2', 62)]"
      ]
     },
     "execution_count": 223,
     "metadata": {},
     "output_type": "execute_result"
    }
   ],
   "source": [
    "quant_ligrec_2nd_5w_dict_sel_s[-15:]"
   ]
  },
  {
   "cell_type": "code",
   "execution_count": 215,
   "metadata": {},
   "outputs": [],
   "source": [
    "list_tmp = []\n",
    "\n",
    "for k in ['FIB - 6 - EPI - 1',\n",
    "          'FIB - 5 - EPI - 1',\n",
    "          'FIB - 4 - EPI - 1',\n",
    "          'FIB - 0 - EPI - 1']:\n",
    "    \n",
    "    list_tmp += ligrec_2nd_9w_dict[k]"
   ]
  },
  {
   "cell_type": "code",
   "execution_count": 220,
   "metadata": {},
   "outputs": [],
   "source": [
    "list_tmp = []\n",
    "\n",
    "for k in ['EPI - 4 - VASC - 2',\n",
    "            'EPI - 1 - VASC - 2',\n",
    "            'EPI - 3 - VASC - 2',\n",
    "            'EPI - 1 - VASC - 3',\n",
    "            'EPI - 1 - VASC - 1']:\n",
    "    \n",
    "    list_tmp += ligrec_2nd_9w_dict[k]"
   ]
  },
  {
   "cell_type": "code",
   "execution_count": 224,
   "metadata": {},
   "outputs": [],
   "source": [
    "list_tmp = []\n",
    "\n",
    "for k in ['FIB - 6 - ANA - 2',\n",
    "          'FIB - 3 - ANA - 2',\n",
    "          'FIB - 2 - ANA - 2',\n",
    "          'FIB - 6 - ANA - 3',\n",
    "          'FIB - 3 - ANA - 3']:\n",
    "    \n",
    "    list_tmp += ligrec_2nd_5w_dict[k]"
   ]
  },
  {
   "cell_type": "code",
   "execution_count": 227,
   "metadata": {},
   "outputs": [],
   "source": [
    "list_tmp = []\n",
    "\n",
    "for k in ['FIB - 6 - ANA - 5',\n",
    "          'FIB - 6 - ANA - 17',\n",
    "          'FIB - 3 - ANA - 5',\n",
    "          'FIB - 2 - ANA - 5',\n",
    "          'FIB - 3 - ANA - 17',\n",
    "          'FIB - 2 - ANA - 17']:\n",
    "    \n",
    "    list_tmp += ligrec_2nd_5w_dict[k]"
   ]
  },
  {
   "cell_type": "code",
   "execution_count": 230,
   "metadata": {},
   "outputs": [],
   "source": [
    "list_tmp = []\n",
    "\n",
    "for k in ['ANA - 2 - MEL - 2']:\n",
    "    \n",
    "    list_tmp += ligrec_2nd_5w_dict[k]"
   ]
  },
  {
   "cell_type": "code",
   "execution_count": 233,
   "metadata": {},
   "outputs": [],
   "source": [
    "list_tmp = []\n",
    "\n",
    "for k in ['ANA - 2 - FIB - 2']:\n",
    "    \n",
    "    list_tmp += ligrec_2nd_5w_dict[k]"
   ]
  },
  {
   "cell_type": "code",
   "execution_count": 236,
   "metadata": {},
   "outputs": [],
   "source": [
    "list_tmp = []\n",
    "\n",
    "for k in ['ANA - 2 - VASC - 2',\n",
    "          'ANA - 3 - VASC - 2']:\n",
    "    \n",
    "    list_tmp += ligrec_2nd_5w_dict[k]"
   ]
  },
  {
   "cell_type": "markdown",
   "metadata": {},
   "source": [
    "# Interaction potential of ORS cells with skin fibroblasts"
   ]
  },
  {
   "cell_type": "code",
   "execution_count": 183,
   "metadata": {},
   "outputs": [],
   "source": [
    "lig_sFIB = []\n",
    "\n",
    "for k in ['FIB - 6','FIB - 5','FIB - 4','FIB - 3']:\n",
    "    lig_sFIB += list(lig_2nd[k])\n",
    "\n",
    "lig_sFIB = list(set(lig_sFIB))"
   ]
  },
  {
   "cell_type": "code",
   "execution_count": 147,
   "metadata": {},
   "outputs": [
    {
     "data": {
      "text/plain": [
       "127"
      ]
     },
     "execution_count": 147,
     "metadata": {},
     "output_type": "execute_result"
    }
   ],
   "source": [
    "len(lig_sFIB)"
   ]
  },
  {
   "cell_type": "code",
   "execution_count": 148,
   "metadata": {},
   "outputs": [],
   "source": [
    "rec_sFIB = []\n",
    "\n",
    "for k in ['FIB - 6','FIB - 5','FIB - 4','FIB - 3']:\n",
    "    rec_sFIB += list(rec_2nd[k])\n",
    "\n",
    "rec_sFIB = list(set(rec_sFIB))"
   ]
  },
  {
   "cell_type": "code",
   "execution_count": 150,
   "metadata": {},
   "outputs": [
    {
     "data": {
      "text/plain": [
       "59"
      ]
     },
     "execution_count": 150,
     "metadata": {},
     "output_type": "execute_result"
    }
   ],
   "source": [
    "len(rec_sFIB)"
   ]
  },
  {
   "cell_type": "code",
   "execution_count": 153,
   "metadata": {},
   "outputs": [],
   "source": [
    "lig_2nd_ORS = {}\n",
    "\n",
    "lig_2nd_ORS['sFIB'] = lig_sFIB\n",
    "\n",
    "for k in ['ANA - 1','ANA - 21','ANA - 0', 'ANA - 2', 'ANA - 3', 'ANA - 20']:\n",
    "    lig_2nd_ORS[k] = lig_2nd[k]"
   ]
  },
  {
   "cell_type": "code",
   "execution_count": 154,
   "metadata": {},
   "outputs": [],
   "source": [
    "rec_2nd_ORS = {}\n",
    "\n",
    "rec_2nd_ORS['sFIB'] = rec_sFIB\n",
    "\n",
    "for k in ['ANA - 1','ANA - 21','ANA - 0', 'ANA - 2', 'ANA - 3', 'ANA - 20']:\n",
    "    rec_2nd_ORS[k] = rec_2nd[k]   "
   ]
  },
  {
   "cell_type": "code",
   "execution_count": 155,
   "metadata": {},
   "outputs": [],
   "source": [
    "ligrec_2nd_ORS_df, ligrec_2nd_ORS_dict, quant_ligrec_2nd_ORS_df, quant_ligrec_2nd_ORS_dict = quantify_LigRec(lig_2nd_ORS, \n",
    "                                                                                                         rec_2nd_ORS,\n",
    "                                                                                                         PairsLigRec_mm_S)"
   ]
  },
  {
   "cell_type": "code",
   "execution_count": 158,
   "metadata": {},
   "outputs": [],
   "source": [
    "quant_ligrec_2nd_ORS_df_ = pd.DataFrame(0, index = quant_ligrec_2nd_ORS_df.index, columns = quant_ligrec_2nd_ORS_df.columns)\n",
    "\n",
    "for c in ['ANA - 1','ANA - 21','ANA - 0', 'ANA - 2', 'ANA - 3', 'ANA - 20']:\n",
    "    quant_ligrec_2nd_ORS_df_.loc['sFIB',c] = quant_ligrec_2nd_ORS_df.loc['sFIB',c]"
   ]
  },
  {
   "cell_type": "code",
   "execution_count": 168,
   "metadata": {},
   "outputs": [
    {
     "data": {
      "text/html": [
       "<div>\n",
       "<style scoped>\n",
       "    .dataframe tbody tr th:only-of-type {\n",
       "        vertical-align: middle;\n",
       "    }\n",
       "\n",
       "    .dataframe tbody tr th {\n",
       "        vertical-align: top;\n",
       "    }\n",
       "\n",
       "    .dataframe thead th {\n",
       "        text-align: right;\n",
       "    }\n",
       "</style>\n",
       "<table border=\"1\" class=\"dataframe\">\n",
       "  <thead>\n",
       "    <tr style=\"text-align: right;\">\n",
       "      <th></th>\n",
       "      <th>sFIB</th>\n",
       "      <th>ANA - 1</th>\n",
       "      <th>ANA - 21</th>\n",
       "      <th>ANA - 0</th>\n",
       "      <th>ANA - 2</th>\n",
       "      <th>ANA - 3</th>\n",
       "      <th>ANA - 20</th>\n",
       "    </tr>\n",
       "  </thead>\n",
       "  <tbody>\n",
       "    <tr>\n",
       "      <th>sFIB</th>\n",
       "      <td>0</td>\n",
       "      <td>8</td>\n",
       "      <td>23</td>\n",
       "      <td>21</td>\n",
       "      <td>81</td>\n",
       "      <td>61</td>\n",
       "      <td>44</td>\n",
       "    </tr>\n",
       "    <tr>\n",
       "      <th>ANA - 1</th>\n",
       "      <td>0</td>\n",
       "      <td>0</td>\n",
       "      <td>0</td>\n",
       "      <td>0</td>\n",
       "      <td>0</td>\n",
       "      <td>0</td>\n",
       "      <td>0</td>\n",
       "    </tr>\n",
       "    <tr>\n",
       "      <th>ANA - 21</th>\n",
       "      <td>0</td>\n",
       "      <td>0</td>\n",
       "      <td>0</td>\n",
       "      <td>0</td>\n",
       "      <td>0</td>\n",
       "      <td>0</td>\n",
       "      <td>0</td>\n",
       "    </tr>\n",
       "    <tr>\n",
       "      <th>ANA - 0</th>\n",
       "      <td>0</td>\n",
       "      <td>0</td>\n",
       "      <td>0</td>\n",
       "      <td>0</td>\n",
       "      <td>0</td>\n",
       "      <td>0</td>\n",
       "      <td>0</td>\n",
       "    </tr>\n",
       "    <tr>\n",
       "      <th>ANA - 2</th>\n",
       "      <td>0</td>\n",
       "      <td>0</td>\n",
       "      <td>0</td>\n",
       "      <td>0</td>\n",
       "      <td>0</td>\n",
       "      <td>0</td>\n",
       "      <td>0</td>\n",
       "    </tr>\n",
       "    <tr>\n",
       "      <th>ANA - 3</th>\n",
       "      <td>0</td>\n",
       "      <td>0</td>\n",
       "      <td>0</td>\n",
       "      <td>0</td>\n",
       "      <td>0</td>\n",
       "      <td>0</td>\n",
       "      <td>0</td>\n",
       "    </tr>\n",
       "    <tr>\n",
       "      <th>ANA - 20</th>\n",
       "      <td>0</td>\n",
       "      <td>0</td>\n",
       "      <td>0</td>\n",
       "      <td>0</td>\n",
       "      <td>0</td>\n",
       "      <td>0</td>\n",
       "      <td>0</td>\n",
       "    </tr>\n",
       "  </tbody>\n",
       "</table>\n",
       "</div>"
      ],
      "text/plain": [
       "          sFIB  ANA - 1  ANA - 21  ANA - 0  ANA - 2  ANA - 3  ANA - 20\n",
       "sFIB         0        8        23       21       81       61        44\n",
       "ANA - 1      0        0         0        0        0        0         0\n",
       "ANA - 21     0        0         0        0        0        0         0\n",
       "ANA - 0      0        0         0        0        0        0         0\n",
       "ANA - 2      0        0         0        0        0        0         0\n",
       "ANA - 3      0        0         0        0        0        0         0\n",
       "ANA - 20     0        0         0        0        0        0         0"
      ]
     },
     "execution_count": 168,
     "metadata": {},
     "output_type": "execute_result"
    }
   ],
   "source": [
    "quant_ligrec_2nd_ORS_df_"
   ]
  },
  {
   "cell_type": "code",
   "execution_count": 161,
   "metadata": {},
   "outputs": [
    {
     "name": "stderr",
     "output_type": "stream",
     "text": [
      "/Users/simjoo/anaconda/lib/python3.6/site-packages/pygraphviz-1.4rc1-py3.6-macosx-10.7-x86_64.egg/pygraphviz/agraph.py:1334: RuntimeWarning: Warning: Arrow type \"None\" unknown - ignoring\n",
      "Warning: Arrow type \"None\" unknown - ignoring\n",
      "Warning: Arrow type \"None\" unknown - ignoring\n",
      "Warning: Arrow type \"None\" unknown - ignoring\n",
      "Warning: Arrow type \"None\" unknown - ignoring\n",
      "Warning: Arrow type \"None\" unknown - ignoring\n",
      "\n",
      "  warnings.warn(b\"\".join(errors).decode(self.encoding), RuntimeWarning)\n"
     ]
    }
   ],
   "source": [
    "data =  quant_ligrec_2nd_ORS_df_\n",
    "dict_lig, dict_rec = lig_2nd_ORS, rec_2nd_ORS\n",
    "cmap = cmap_2nd\n",
    "cmap['sFIB'] = 'red'\n",
    "\n",
    "G = pgv.AGraph(strict = False, \n",
    "               dpi = 300, size = 15,\n",
    "               splines=False)\n",
    "\n",
    "for n in data.index:\n",
    "    G.add_node(n, \n",
    "               fillcolor = cmap[n],#cmap[n.split(' - ')[0]], \n",
    "               style = 'filled', \n",
    "               shape = 'circle', \n",
    "               label = '', \n",
    "               width = (len(dict_lig[n]) + len(dict_rec[n])) * 0.005)\n",
    "    \n",
    "for e1,e2 in itertools.product(list(data.index), list(data.index)):\n",
    "    if data.loc[e1,e2] > 0:\n",
    "        G.add_edge(e1, e2, \n",
    "                   color = cmap[e1],#cmap[e1.split(' - ')[0]], \n",
    "                   weight = data.loc[e1,e2], \n",
    "                   penwidth = data.loc[e1,e2] * 0.25,\n",
    "                   dir = 'forward', arrowhead = None)\n",
    "\n",
    "G.draw('%s/v1.5_SupplementaryFigure8_RL_graph_2nd_5w_ORS.pdf' % path_figures, prog = 'neato')"
   ]
  },
  {
   "cell_type": "code",
   "execution_count": 164,
   "metadata": {},
   "outputs": [],
   "source": [
    "list_tmp = []\n",
    "\n",
    "for k in ['sFIB - ANA - 2','sFIB - ANA - 3']:\n",
    "    \n",
    "    list_tmp += ligrec_2nd_ORS_dict[k]"
   ]
  },
  {
   "cell_type": "markdown",
   "metadata": {},
   "source": [
    "# Interaction potential of ORS cells with stromal cells"
   ]
  },
  {
   "cell_type": "code",
   "execution_count": 184,
   "metadata": {},
   "outputs": [],
   "source": [
    "gr_stroma = [g for g in set(cl_c_2nd_sel) if g.split(' - ')[0] not in ['ANA','EPI']]"
   ]
  },
  {
   "cell_type": "code",
   "execution_count": 186,
   "metadata": {},
   "outputs": [],
   "source": [
    "lig_stroma = []\n",
    "\n",
    "for k in gr_stroma:\n",
    "    lig_stroma += list(lig_2nd[k])\n",
    "\n",
    "lig_stroma = list(set(lig_stroma))"
   ]
  },
  {
   "cell_type": "code",
   "execution_count": 187,
   "metadata": {},
   "outputs": [
    {
     "data": {
      "text/plain": [
       "261"
      ]
     },
     "execution_count": 187,
     "metadata": {},
     "output_type": "execute_result"
    }
   ],
   "source": [
    "len(lig_stroma)"
   ]
  },
  {
   "cell_type": "code",
   "execution_count": 188,
   "metadata": {},
   "outputs": [],
   "source": [
    "rec_stroma = []\n",
    "\n",
    "for k in gr_stroma:\n",
    "    rec_stroma += list(rec_2nd[k])\n",
    "\n",
    "rec_stroma = list(set(rec_stroma))"
   ]
  },
  {
   "cell_type": "code",
   "execution_count": 189,
   "metadata": {},
   "outputs": [
    {
     "data": {
      "text/plain": [
       "235"
      ]
     },
     "execution_count": 189,
     "metadata": {},
     "output_type": "execute_result"
    }
   ],
   "source": [
    "len(rec_stroma)"
   ]
  },
  {
   "cell_type": "code",
   "execution_count": 190,
   "metadata": {},
   "outputs": [],
   "source": [
    "lig_2nd_ORS = {}\n",
    "\n",
    "lig_2nd_ORS['stroma'] = lig_stroma\n",
    "\n",
    "for k in ['ANA - 1','ANA - 21','ANA - 0', 'ANA - 2', 'ANA - 3', 'ANA - 20']:\n",
    "    lig_2nd_ORS[k] = lig_2nd[k]"
   ]
  },
  {
   "cell_type": "code",
   "execution_count": 196,
   "metadata": {},
   "outputs": [],
   "source": [
    "rec_2nd_ORS = {}\n",
    "\n",
    "rec_2nd_ORS['stroma'] = rec_stroma\n",
    "\n",
    "for k in ['ANA - 1','ANA - 21','ANA - 0', 'ANA - 2', 'ANA - 3', 'ANA - 20']:\n",
    "    rec_2nd_ORS[k] = rec_2nd[k]   "
   ]
  },
  {
   "cell_type": "code",
   "execution_count": 197,
   "metadata": {},
   "outputs": [],
   "source": [
    "ligrec_2nd_ORS_df, ligrec_2nd_ORS_dict, quant_ligrec_2nd_ORS_df, quant_ligrec_2nd_ORS_dict = quantify_LigRec(lig_2nd_ORS, \n",
    "                                                                                                         rec_2nd_ORS,\n",
    "                                                                                                         PairsLigRec_mm_S)"
   ]
  },
  {
   "cell_type": "code",
   "execution_count": 198,
   "metadata": {},
   "outputs": [],
   "source": [
    "quant_ligrec_2nd_ORS_df_ = pd.DataFrame(0, index = quant_ligrec_2nd_ORS_df.index, columns = quant_ligrec_2nd_ORS_df.columns)\n",
    "\n",
    "for c in ['ANA - 1','ANA - 21','ANA - 0', 'ANA - 2', 'ANA - 3', 'ANA - 20']:\n",
    "    quant_ligrec_2nd_ORS_df_.loc['stroma',c] = quant_ligrec_2nd_ORS_df.loc['stroma',c]"
   ]
  },
  {
   "cell_type": "code",
   "execution_count": 199,
   "metadata": {},
   "outputs": [
    {
     "data": {
      "text/html": [
       "<div>\n",
       "<style scoped>\n",
       "    .dataframe tbody tr th:only-of-type {\n",
       "        vertical-align: middle;\n",
       "    }\n",
       "\n",
       "    .dataframe tbody tr th {\n",
       "        vertical-align: top;\n",
       "    }\n",
       "\n",
       "    .dataframe thead th {\n",
       "        text-align: right;\n",
       "    }\n",
       "</style>\n",
       "<table border=\"1\" class=\"dataframe\">\n",
       "  <thead>\n",
       "    <tr style=\"text-align: right;\">\n",
       "      <th></th>\n",
       "      <th>stroma</th>\n",
       "      <th>ANA - 1</th>\n",
       "      <th>ANA - 21</th>\n",
       "      <th>ANA - 0</th>\n",
       "      <th>ANA - 2</th>\n",
       "      <th>ANA - 3</th>\n",
       "      <th>ANA - 20</th>\n",
       "    </tr>\n",
       "  </thead>\n",
       "  <tbody>\n",
       "    <tr>\n",
       "      <th>stroma</th>\n",
       "      <td>0</td>\n",
       "      <td>19</td>\n",
       "      <td>45</td>\n",
       "      <td>37</td>\n",
       "      <td>156</td>\n",
       "      <td>115</td>\n",
       "      <td>78</td>\n",
       "    </tr>\n",
       "    <tr>\n",
       "      <th>ANA - 1</th>\n",
       "      <td>0</td>\n",
       "      <td>0</td>\n",
       "      <td>0</td>\n",
       "      <td>0</td>\n",
       "      <td>0</td>\n",
       "      <td>0</td>\n",
       "      <td>0</td>\n",
       "    </tr>\n",
       "    <tr>\n",
       "      <th>ANA - 21</th>\n",
       "      <td>0</td>\n",
       "      <td>0</td>\n",
       "      <td>0</td>\n",
       "      <td>0</td>\n",
       "      <td>0</td>\n",
       "      <td>0</td>\n",
       "      <td>0</td>\n",
       "    </tr>\n",
       "    <tr>\n",
       "      <th>ANA - 0</th>\n",
       "      <td>0</td>\n",
       "      <td>0</td>\n",
       "      <td>0</td>\n",
       "      <td>0</td>\n",
       "      <td>0</td>\n",
       "      <td>0</td>\n",
       "      <td>0</td>\n",
       "    </tr>\n",
       "    <tr>\n",
       "      <th>ANA - 2</th>\n",
       "      <td>0</td>\n",
       "      <td>0</td>\n",
       "      <td>0</td>\n",
       "      <td>0</td>\n",
       "      <td>0</td>\n",
       "      <td>0</td>\n",
       "      <td>0</td>\n",
       "    </tr>\n",
       "    <tr>\n",
       "      <th>ANA - 3</th>\n",
       "      <td>0</td>\n",
       "      <td>0</td>\n",
       "      <td>0</td>\n",
       "      <td>0</td>\n",
       "      <td>0</td>\n",
       "      <td>0</td>\n",
       "      <td>0</td>\n",
       "    </tr>\n",
       "    <tr>\n",
       "      <th>ANA - 20</th>\n",
       "      <td>0</td>\n",
       "      <td>0</td>\n",
       "      <td>0</td>\n",
       "      <td>0</td>\n",
       "      <td>0</td>\n",
       "      <td>0</td>\n",
       "      <td>0</td>\n",
       "    </tr>\n",
       "  </tbody>\n",
       "</table>\n",
       "</div>"
      ],
      "text/plain": [
       "          stroma  ANA - 1  ANA - 21  ANA - 0  ANA - 2  ANA - 3  ANA - 20\n",
       "stroma         0       19        45       37      156      115        78\n",
       "ANA - 1        0        0         0        0        0        0         0\n",
       "ANA - 21       0        0         0        0        0        0         0\n",
       "ANA - 0        0        0         0        0        0        0         0\n",
       "ANA - 2        0        0         0        0        0        0         0\n",
       "ANA - 3        0        0         0        0        0        0         0\n",
       "ANA - 20       0        0         0        0        0        0         0"
      ]
     },
     "execution_count": 199,
     "metadata": {},
     "output_type": "execute_result"
    }
   ],
   "source": [
    "quant_ligrec_2nd_ORS_df_"
   ]
  },
  {
   "cell_type": "code",
   "execution_count": 204,
   "metadata": {},
   "outputs": [
    {
     "name": "stderr",
     "output_type": "stream",
     "text": [
      "/Users/simjoo/anaconda/lib/python3.6/site-packages/pygraphviz-1.4rc1-py3.6-macosx-10.7-x86_64.egg/pygraphviz/agraph.py:1334: RuntimeWarning: Warning: Arrow type \"None\" unknown - ignoring\n",
      "Warning: Arrow type \"None\" unknown - ignoring\n",
      "Warning: Arrow type \"None\" unknown - ignoring\n",
      "Warning: Arrow type \"None\" unknown - ignoring\n",
      "Warning: Arrow type \"None\" unknown - ignoring\n",
      "Warning: Arrow type \"None\" unknown - ignoring\n",
      "\n",
      "  warnings.warn(b\"\".join(errors).decode(self.encoding), RuntimeWarning)\n"
     ]
    }
   ],
   "source": [
    "data =  quant_ligrec_2nd_ORS_df_\n",
    "dict_lig, dict_rec = lig_2nd_ORS, rec_2nd_ORS\n",
    "cmap = cmap_2nd\n",
    "cmap['stroma'] = 'red'\n",
    "\n",
    "G = pgv.AGraph(strict = False, \n",
    "               dpi = 300, size = 15,\n",
    "               splines=False)\n",
    "\n",
    "for n in data.index:\n",
    "    G.add_node(n, \n",
    "               fillcolor = cmap[n],#cmap[n.split(' - ')[0]], \n",
    "               style = 'filled', \n",
    "               shape = 'circle', \n",
    "               label = '', \n",
    "               width = 0.25)\n",
    "    \n",
    "for e1,e2 in itertools.product(list(data.index), list(data.index)):\n",
    "    if data.loc[e1,e2] > 0:\n",
    "        G.add_edge(e1, e2, \n",
    "                   color = cmap[e1],#cmap[e1.split(' - ')[0]], \n",
    "                   weight = data.loc[e1,e2], \n",
    "                   penwidth = data.loc[e1,e2] * 0.25,\n",
    "                   dir = 'forward', arrowhead = None)\n",
    "\n",
    "G.draw('%s/v1.5_SupplementaryFigure8_RL_graph_2nd_5w_ORS.pdf' % path_figures, prog = 'neato')"
   ]
  },
  {
   "cell_type": "markdown",
   "metadata": {},
   "source": [
    "# Interaction potential of ORS cells with main stromal compartments"
   ]
  },
  {
   "cell_type": "code",
   "execution_count": 216,
   "metadata": {},
   "outputs": [],
   "source": [
    "from ipysankeywidget import SankeyWidget\n",
    "from ipywidgets import Layout"
   ]
  },
  {
   "cell_type": "code",
   "execution_count": 234,
   "metadata": {},
   "outputs": [],
   "source": [
    "from IPython.display import Image, SVG"
   ]
  },
  {
   "cell_type": "code",
   "execution_count": 214,
   "metadata": {},
   "outputs": [],
   "source": [
    "ligrec_2nd_ORS_df, ligrec_2nd_ORS_dict, quant_ligrec_2nd_ORS_df, quant_ligrec_2nd_ORS_dict = quantify_LigRec(lig_1st_5w, \n",
    "                                                                                                         rec_2nd_ORS,\n",
    "                                                                                                         PairsLigRec_mm_S)"
   ]
  },
  {
   "cell_type": "code",
   "execution_count": 215,
   "metadata": {},
   "outputs": [
    {
     "data": {
      "text/html": [
       "<div>\n",
       "<style scoped>\n",
       "    .dataframe tbody tr th:only-of-type {\n",
       "        vertical-align: middle;\n",
       "    }\n",
       "\n",
       "    .dataframe tbody tr th {\n",
       "        vertical-align: top;\n",
       "    }\n",
       "\n",
       "    .dataframe thead th {\n",
       "        text-align: right;\n",
       "    }\n",
       "</style>\n",
       "<table border=\"1\" class=\"dataframe\">\n",
       "  <thead>\n",
       "    <tr style=\"text-align: right;\">\n",
       "      <th></th>\n",
       "      <th>stroma</th>\n",
       "      <th>ANA - 1</th>\n",
       "      <th>ANA - 21</th>\n",
       "      <th>ANA - 0</th>\n",
       "      <th>ANA - 2</th>\n",
       "      <th>ANA - 3</th>\n",
       "      <th>ANA - 20</th>\n",
       "    </tr>\n",
       "  </thead>\n",
       "  <tbody>\n",
       "    <tr>\n",
       "      <th>IMM</th>\n",
       "      <td>191</td>\n",
       "      <td>5</td>\n",
       "      <td>11</td>\n",
       "      <td>14</td>\n",
       "      <td>36</td>\n",
       "      <td>25</td>\n",
       "      <td>14</td>\n",
       "    </tr>\n",
       "    <tr>\n",
       "      <th>MISC</th>\n",
       "      <td>37</td>\n",
       "      <td>1</td>\n",
       "      <td>2</td>\n",
       "      <td>1</td>\n",
       "      <td>11</td>\n",
       "      <td>5</td>\n",
       "      <td>4</td>\n",
       "    </tr>\n",
       "    <tr>\n",
       "      <th>MEL</th>\n",
       "      <td>137</td>\n",
       "      <td>7</td>\n",
       "      <td>20</td>\n",
       "      <td>10</td>\n",
       "      <td>47</td>\n",
       "      <td>34</td>\n",
       "      <td>23</td>\n",
       "    </tr>\n",
       "    <tr>\n",
       "      <th>VASC</th>\n",
       "      <td>213</td>\n",
       "      <td>7</td>\n",
       "      <td>16</td>\n",
       "      <td>16</td>\n",
       "      <td>63</td>\n",
       "      <td>43</td>\n",
       "      <td>29</td>\n",
       "    </tr>\n",
       "    <tr>\n",
       "      <th>ANA</th>\n",
       "      <td>241</td>\n",
       "      <td>12</td>\n",
       "      <td>33</td>\n",
       "      <td>30</td>\n",
       "      <td>93</td>\n",
       "      <td>69</td>\n",
       "      <td>43</td>\n",
       "    </tr>\n",
       "    <tr>\n",
       "      <th>EPI</th>\n",
       "      <td>204</td>\n",
       "      <td>9</td>\n",
       "      <td>21</td>\n",
       "      <td>20</td>\n",
       "      <td>64</td>\n",
       "      <td>40</td>\n",
       "      <td>34</td>\n",
       "    </tr>\n",
       "    <tr>\n",
       "      <th>FIB</th>\n",
       "      <td>358</td>\n",
       "      <td>13</td>\n",
       "      <td>31</td>\n",
       "      <td>27</td>\n",
       "      <td>113</td>\n",
       "      <td>77</td>\n",
       "      <td>57</td>\n",
       "    </tr>\n",
       "  </tbody>\n",
       "</table>\n",
       "</div>"
      ],
      "text/plain": [
       "      stroma  ANA - 1  ANA - 21  ANA - 0  ANA - 2  ANA - 3  ANA - 20\n",
       "IMM      191        5        11       14       36       25        14\n",
       "MISC      37        1         2        1       11        5         4\n",
       "MEL      137        7        20       10       47       34        23\n",
       "VASC     213        7        16       16       63       43        29\n",
       "ANA      241       12        33       30       93       69        43\n",
       "EPI      204        9        21       20       64       40        34\n",
       "FIB      358       13        31       27      113       77        57"
      ]
     },
     "execution_count": 215,
     "metadata": {},
     "output_type": "execute_result"
    }
   ],
   "source": [
    "quant_ligrec_2nd_ORS_df"
   ]
  },
  {
   "cell_type": "code",
   "execution_count": 285,
   "metadata": {},
   "outputs": [],
   "source": [
    "stroma_ORS_links = []\n",
    "\n",
    "for x1 in ['FIB','IMM','VASC','MEL','MISC']:\n",
    "    for x2 in ['ANA - 1','ANA - 21','ANA - 0','ANA - 2','ANA - 3','ANA - 20']:\n",
    "        stroma_ORS_links += [{'source':x1,\n",
    "                              'target':x2,\n",
    "                              'value':quant_ligrec_2nd_ORS_df.loc[x1,x2],\n",
    "                              'color':cmap_2nd[x2]}]"
   ]
  },
  {
   "cell_type": "code",
   "execution_count": 286,
   "metadata": {},
   "outputs": [],
   "source": [
    "stroma_ORS_order = [['FIB','IMM','VASC','MEL','MISC'],['ANA - 1','ANA - 21','ANA - 0','ANA - 2','ANA - 3','ANA - 20']]"
   ]
  },
  {
   "cell_type": "code",
   "execution_count": 287,
   "metadata": {},
   "outputs": [],
   "source": [
    "layout = Layout(width=\"500\", height=\"500\")\n",
    "w = SankeyWidget(links = stroma_ORS_links,\n",
    "                 margins=dict(top=0, bottom=0, left=100, right=100), \n",
    "                 layout = layout,\n",
    "                 order = stroma_ORS_order,\n",
    "                )"
   ]
  },
  {
   "cell_type": "code",
   "execution_count": 288,
   "metadata": {},
   "outputs": [
    {
     "data": {
      "application/vnd.jupyter.widget-view+json": {
       "model_id": "ff3c5c7e7f274e5088ada2ed607e280f",
       "version_major": 2,
       "version_minor": 0
      },
      "text/plain": [
       "SankeyWidget(layout=Layout(height='500', width='500'), links=[{'source': 'FIB', 'target': 'ANA - 1', 'value': …"
      ]
     },
     "metadata": {},
     "output_type": "display_data"
    }
   ],
   "source": [
    "w"
   ]
  },
  {
   "cell_type": "code",
   "execution_count": 289,
   "metadata": {},
   "outputs": [],
   "source": [
    "w.save_svg('%s/sankay_stroma_vs_ORS_v2.svg' % path_figures)"
   ]
  }
 ],
 "metadata": {
  "kernelspec": {
   "display_name": "Python 3",
   "language": "python",
   "name": "python3"
  },
  "language_info": {
   "codemirror_mode": {
    "name": "ipython",
    "version": 3
   },
   "file_extension": ".py",
   "mimetype": "text/x-python",
   "name": "python",
   "nbconvert_exporter": "python",
   "pygments_lexer": "ipython3",
   "version": "3.6.7"
  }
 },
 "nbformat": 4,
 "nbformat_minor": 1
}
